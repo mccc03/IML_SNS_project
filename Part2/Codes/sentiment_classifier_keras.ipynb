{
 "cells": [
  {
   "cell_type": "markdown",
   "id": "9935c3e8",
   "metadata": {},
   "source": [
    "# Sentiment Classifier (Converted to Keras)\n",
    "This notebook is a Keras-based version of the original PyTorch implementation."
   ]
  },
  {
   "cell_type": "code",
   "execution_count": null,
   "id": "c082ff6f",
   "metadata": {},
   "outputs": [],
   "source": [
    "# IO\n",
    "import os\n",
    "import csv\n",
    "import pathlib\n",
    "from pathlib import Path\n",
    "import warnings\n",
    "from tqdm.notebook import tqdm\n",
    "\n",
    "# Utilities\n",
    "import numpy as np \n",
    "import pandas as pd\n",
    "import copy\n",
    "\n",
    "# Preprocessing\n",
    "import nltk\n",
    "from nltk.corpus import stopwords\n",
    "from nltk.tokenize import word_tokenize\n",
    "from nltk.stem import WordNetLemmatizer\n",
    "from sklearn.preprocessing import LabelEncoder\n",
    "from collections import Counter\n",
    "from sklearn.model_selection import train_test_split, RepeatedStratifiedKFold, StratifiedKFold\n",
    "\n",
    "# Visualization\n",
    "import seaborn as sns\n",
    "import matplotlib.pyplot as plt\n",
    "\n",
    "# Modeling and Training\n",
    "import tensorflow as tf\n",
    "from tensorflow import keras\n",
    "from tensorflow.keras import layers\n",
    "from sklearn.metrics import (\n",
    "    roc_curve, auc, roc_auc_score,\n",
    "    accuracy_score, precision_score, recall_score, \n",
    "    f1_score, confusion_matrix\n",
    ")\n",
    "\n",
    "warnings.filterwarnings(\"ignore\", category=FutureWarning)"
   ]
  },
  {
   "cell_type": "markdown",
   "id": "520870b4",
   "metadata": {},
   "source": [
    "## Data Loading and Preprocessing"
   ]
  },
  {
   "cell_type": "code",
   "execution_count": null,
   "id": "40facaff",
   "metadata": {},
   "outputs": [],
   "source": [
    "# Example (adapt to your dataset)\n",
    "df = pd.read_csv('your_dataset.csv')\n",
    "\n",
    "# Basic preprocessing (tokenization, stopword removal, lemmatization)\n",
    "nltk.download('punkt')\n",
    "nltk.download('stopwords')\n",
    "nltk.download('wordnet')\n",
    "\n",
    "stop_words = set(stopwords.words('english'))\n",
    "lemmatizer = WordNetLemmatizer()\n",
    "\n",
    "def preprocess(text):\n",
    "    tokens = word_tokenize(text.lower())\n",
    "    tokens = [lemmatizer.lemmatize(w) for w in tokens if w.isalpha() and w not in stop_words]\n",
    "    return ' '.join(tokens)\n",
    "\n",
    "df['processed_text'] = df['text_column'].apply(preprocess)  # replace 'text_column'\n",
    "\n",
    "# Label encoding\n",
    "le = LabelEncoder()\n",
    "df['label_encoded'] = le.fit_transform(df['label_column'])  # replace 'label_column'\n",
    "\n",
    "# Train/validation split\n",
    "X_train, X_val, y_train, y_val = train_test_split(df['processed_text'], df['label_encoded'], stratify=df['label_encoded'], test_size=0.2, random_state=42)\n"
   ]
  },
  {
   "cell_type": "markdown",
   "id": "9d1bd389",
   "metadata": {},
   "source": [
    "## Tokenization and Vectorization"
   ]
  },
  {
   "cell_type": "code",
   "execution_count": null,
   "id": "30bacc0a",
   "metadata": {},
   "outputs": [],
   "source": [
    "tokenizer = keras.preprocessing.text.Tokenizer(num_words=10000, oov_token=\"<OOV>\")\n",
    "tokenizer.fit_on_texts(X_train)\n",
    "\n",
    "X_train_seq = tokenizer.texts_to_sequences(X_train)\n",
    "X_val_seq = tokenizer.texts_to_sequences(X_val)\n",
    "\n",
    "maxlen = 100\n",
    "X_train_pad = keras.preprocessing.sequence.pad_sequences(X_train_seq, maxlen=maxlen, padding='post')\n",
    "X_val_pad = keras.preprocessing.sequence.pad_sequences(X_val_seq, maxlen=maxlen, padding='post')\n"
   ]
  },
  {
   "cell_type": "markdown",
   "id": "2b2dc68f",
   "metadata": {},
   "source": [
    "## Model Definition (Keras)"
   ]
  },
  {
   "cell_type": "code",
   "execution_count": null,
   "id": "d7840bfe",
   "metadata": {},
   "outputs": [],
   "source": [
    "model = keras.Sequential([\n",
    "    layers.Embedding(input_dim=10000, output_dim=64, input_length=maxlen),\n",
    "    layers.Bidirectional(layers.LSTM(64)),\n",
    "    layers.Dense(64, activation='relu'),\n",
    "    layers.Dropout(0.5),\n",
    "    layers.Dense(1, activation='sigmoid')\n",
    "])\n",
    "\n",
    "model.compile(loss='binary_crossentropy',\n",
    "              optimizer='adam',\n",
    "              metrics=['accuracy'])\n",
    "model.summary()\n"
   ]
  },
  {
   "cell_type": "markdown",
   "id": "d8440305",
   "metadata": {},
   "source": [
    "## Training"
   ]
  },
  {
   "cell_type": "code",
   "execution_count": null,
   "id": "b4f3d28f",
   "metadata": {},
   "outputs": [],
   "source": [
    "history = model.fit(X_train_pad, y_train, \n",
    "                    validation_data=(X_val_pad, y_val), \n",
    "                    epochs=10, \n",
    "                    batch_size=32)\n"
   ]
  },
  {
   "cell_type": "markdown",
   "id": "446d7d7b",
   "metadata": {},
   "source": [
    "## Evaluation"
   ]
  },
  {
   "cell_type": "code",
   "execution_count": null,
   "id": "01494595",
   "metadata": {},
   "outputs": [],
   "source": [
    "y_pred_probs = model.predict(X_val_pad).flatten()\n",
    "y_pred = (y_pred_probs > 0.5).astype(int)\n",
    "\n",
    "print(\"Accuracy:\", accuracy_score(y_val, y_pred))\n",
    "print(\"Precision:\", precision_score(y_val, y_pred))\n",
    "print(\"Recall:\", recall_score(y_val, y_pred))\n",
    "print(\"F1 Score:\", f1_score(y_val, y_pred))\n",
    "\n",
    "fpr, tpr, _ = roc_curve(y_val, y_pred_probs)\n",
    "roc_auc = auc(fpr, tpr)\n",
    "\n",
    "plt.figure()\n",
    "plt.plot(fpr, tpr, label=f'AUC = {roc_auc:.2f}')\n",
    "plt.xlabel(\"False Positive Rate\")\n",
    "plt.ylabel(\"True Positive Rate\")\n",
    "plt.title(\"ROC Curve\")\n",
    "plt.legend()\n",
    "plt.show()\n"
   ]
  }
 ],
 "metadata": {},
 "nbformat": 4,
 "nbformat_minor": 5
}
