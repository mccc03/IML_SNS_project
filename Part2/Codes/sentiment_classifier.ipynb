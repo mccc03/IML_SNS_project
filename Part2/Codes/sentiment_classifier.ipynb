{
 "cells": [
  {
   "cell_type": "markdown",
   "metadata": {},
   "source": [
    "# Libraries"
   ]
  },
  {
   "cell_type": "code",
   "execution_count": 1,
   "metadata": {},
   "outputs": [
    {
     "name": "stderr",
     "output_type": "stream",
     "text": [
      "/Users/exterior/miniconda3/envs/project2/lib/python3.12/site-packages/torchtext/vocab/__init__.py:4: UserWarning: \n",
      "/!\\ IMPORTANT WARNING ABOUT TORCHTEXT STATUS /!\\ \n",
      "Torchtext is deprecated and the last released version will be 0.18 (this one). You can silence this warning by calling the following at the beginnign of your scripts: `import torchtext; torchtext.disable_torchtext_deprecation_warning()`\n",
      "  warnings.warn(torchtext._TORCHTEXT_DEPRECATION_MSG)\n",
      "/Users/exterior/miniconda3/envs/project2/lib/python3.12/site-packages/torchtext/utils.py:4: UserWarning: \n",
      "/!\\ IMPORTANT WARNING ABOUT TORCHTEXT STATUS /!\\ \n",
      "Torchtext is deprecated and the last released version will be 0.18 (this one). You can silence this warning by calling the following at the beginnign of your scripts: `import torchtext; torchtext.disable_torchtext_deprecation_warning()`\n",
      "  warnings.warn(torchtext._TORCHTEXT_DEPRECATION_MSG)\n"
     ]
    }
   ],
   "source": [
    "# IO\n",
    "import os\n",
    "import csv\n",
    "import pathlib\n",
    "from pathlib import Path\n",
    "import chardet\n",
    "import warnings\n",
    "from tqdm.notebook import tqdm\n",
    "\n",
    "# Utilities\n",
    "import numpy as np \n",
    "import pandas as pd\n",
    "import copy\n",
    "from functools import partial\n",
    "\n",
    "# Preprocessing\n",
    "import nltk\n",
    "from nltk.corpus import stopwords\n",
    "from nltk.tokenize import word_tokenize\n",
    "from nltk.stem import WordNetLemmatizer\n",
    "from sklearn.preprocessing import LabelEncoder\n",
    "from torchtext.vocab import vocab\n",
    "from collections import Counter\n",
    "from torch.utils.data import Dataset, DataLoader\n",
    "from torch.nn.utils.rnn import pad_sequence\n",
    "from sklearn.model_selection import train_test_split\n",
    "from sklearn.model_selection import RepeatedStratifiedKFold\n",
    "from sklearn.model_selection import StratifiedKFold\n",
    "\n",
    "# Visualization\n",
    "import seaborn as sns\n",
    "import matplotlib.pyplot as plt\n",
    "\n",
    "# Modelling and training\n",
    "import optuna\n",
    "import torch\n",
    "import torch.nn as nn\n",
    "import torch.nn.functional as F\n",
    "\n",
    "# Evaluation\n",
    "from sklearn.metrics import (\n",
    "    roc_curve, auc, roc_auc_score,\n",
    "    accuracy_score, precision_score, recall_score, \n",
    "    f1_score, confusion_matrix\n",
    ")\n",
    "from sklearn.preprocessing import label_binarize\n",
    "\n",
    "warnings.filterwarnings(\"ignore\", category=FutureWarning)"
   ]
  },
  {
   "cell_type": "markdown",
   "metadata": {},
   "source": [
    "Download `nltk` resources (only needs to run once per machine)"
   ]
  },
  {
   "cell_type": "code",
   "execution_count": 2,
   "metadata": {},
   "outputs": [
    {
     "name": "stderr",
     "output_type": "stream",
     "text": [
      "[nltk_data] Downloading package punkt_tab to\n",
      "[nltk_data]     /Users/exterior/nltk_data...\n",
      "[nltk_data]   Package punkt_tab is already up-to-date!\n",
      "[nltk_data] Downloading package stopwords to\n",
      "[nltk_data]     /Users/exterior/nltk_data...\n",
      "[nltk_data]   Package stopwords is already up-to-date!\n"
     ]
    },
    {
     "data": {
      "text/plain": [
       "True"
      ]
     },
     "execution_count": 2,
     "metadata": {},
     "output_type": "execute_result"
    }
   ],
   "source": [
    "nltk.download('punkt_tab')\n",
    "nltk.download('stopwords')"
   ]
  },
  {
   "cell_type": "markdown",
   "metadata": {},
   "source": [
    "# Classes"
   ]
  },
  {
   "cell_type": "markdown",
   "metadata": {},
   "source": [
    "Early stopping class (pytorch does not have a built in early stopping callback)"
   ]
  },
  {
   "cell_type": "code",
   "execution_count": 3,
   "metadata": {},
   "outputs": [],
   "source": [
    "class EarlyStopping:\n",
    "    def __init__(self, patience=1, restore_best_weights=True, mode='min'):\n",
    "        self.patience = patience\n",
    "        self.restore_best_weights = restore_best_weights\n",
    "        self.mode = mode  # 'min' for loss, 'max' for accuracy, etc.\n",
    "        self.best_score = None\n",
    "        self.counter = 0\n",
    "        self.early_stop = False\n",
    "        self.best_model_state = None\n",
    "\n",
    "    def __call__(self, current_score, model):\n",
    "        # Determine if the current score is better\n",
    "        if self.best_score is None:\n",
    "            self.best_score = current_score\n",
    "            if self.restore_best_weights:\n",
    "                self.best_model_state = copy.deepcopy(model.state_dict())\n",
    "        elif (self.mode == 'min' and current_score < self.best_score) or \\\n",
    "             (self.mode == 'max' and current_score > self.best_score):\n",
    "            self.best_score = current_score\n",
    "            self.counter = 0\n",
    "            if self.restore_best_weights:\n",
    "                self.best_model_state = copy.deepcopy(model.state_dict())\n",
    "        else:\n",
    "            self.counter += 1\n",
    "            if self.counter >= self.patience:\n",
    "                self.early_stop = True\n",
    "\n",
    "    def restore(self, model):\n",
    "        if self.restore_best_weights and self.best_model_state:\n",
    "            model.load_state_dict(self.best_model_state)"
   ]
  },
  {
   "cell_type": "code",
   "execution_count": 4,
   "metadata": {},
   "outputs": [],
   "source": [
    "class TextDataset(Dataset):\n",
    "    def __init__(self, df, vocab_inst):\n",
    "        self.vocab_inst = vocab_inst\n",
    "        self.texts = df['Sentence'].tolist()\n",
    "        self.labels = df['Sentiment_encoded'].tolist()\n",
    "\n",
    "    def __len__(self):\n",
    "        return len(self.texts)\n",
    "\n",
    "    def __getitem__(self, idx):\n",
    "        encoded = torch.tensor(encode_text(self.texts[idx], self.vocab_inst), dtype=torch.long)\n",
    "        label = torch.tensor(self.labels[idx], dtype=torch.long)\n",
    "        return encoded, label"
   ]
  },
  {
   "cell_type": "markdown",
   "metadata": {},
   "source": [
    "## Models"
   ]
  },
  {
   "cell_type": "code",
   "execution_count": 5,
   "metadata": {},
   "outputs": [],
   "source": [
    "class CorpoSpeakDecoder(nn.Module):\n",
    "    def __init__(\n",
    "        self, \n",
    "        vocab_size, \n",
    "        embed_dim=128, \n",
    "        lstm_out=196,\n",
    "        dropout_spatial=0.5, \n",
    "        dropout_lstm=0.3,\n",
    "        dropout_1=0.2,\n",
    "        dropout_2=0.4, \n",
    "        dense_1=100,\n",
    "        output_classes=3):\n",
    "        \n",
    "        super(CorpoSpeakDecoder, self).__init__()\n",
    "        \n",
    "        self.embedding = nn.Embedding(num_embeddings=vocab_size, embedding_dim=embed_dim)\n",
    "        self.spatial_dropout = nn.Dropout2d(p=dropout_spatial)  # Approximate SpatialDropout1D\n",
    "        self.lstm = nn.LSTM(embed_dim, lstm_out, batch_first=True, dropout=dropout_lstm)\n",
    "        \n",
    "        self.dropout_1 = nn.Dropout(p=dropout_1)\n",
    "        self.dense_1 = nn.Linear(lstm_out, dense_1)\n",
    "        self.dropout_2 = nn.Dropout(p=dropout_2)\n",
    "        self.output_layer = nn.Linear(dense_1, output_classes)\n",
    "\n",
    "    def forward(self, x):\n",
    "        x = self.embedding(x)                      # (batch, seq_len, embed_dim)\n",
    "        x = x.permute(0, 2, 1)                     # For Dropout2d: (batch, embed_dim, seq_len)\n",
    "        x = self.spatial_dropout(x)\n",
    "        x = x.permute(0, 2, 1)                     # Back to (batch, seq_len, embed_dim)\n",
    "        \n",
    "        x, _ = self.lstm(x)                        # LSTM returns (output, (h_n, c_n))\n",
    "        x = x[:, -1, :]                            # Get the output from the last timestep\n",
    "        \n",
    "        x = self.dropout_1(x)\n",
    "        x = F.relu(self.dense_1(x))\n",
    "        x = self.dropout_2(x)\n",
    "        x = self.output_layer(x)\n",
    "        return x       "
   ]
  },
  {
   "cell_type": "code",
   "execution_count": 6,
   "metadata": {},
   "outputs": [],
   "source": [
    "class SimpleRNNClassifier(nn.Module):\n",
    "    def __init__(\n",
    "        self, \n",
    "        max_features, \n",
    "        embedding_dim=16, \n",
    "        rnn_units=64, \n",
    "        num_classes=3\n",
    "        ):\n",
    "        super(SimpleRNNClassifier, self).__init__()\n",
    "        self.embedding = nn.Embedding(num_embeddings=max_features, embedding_dim=embedding_dim)\n",
    "        self.rnn = nn.RNN(input_size=embedding_dim, hidden_size=rnn_units, batch_first=True, nonlinearity='tanh')\n",
    "        self.fc = nn.Linear(rnn_units, num_classes)\n",
    "\n",
    "    def forward(self, x):\n",
    "        x = self.embedding(x)                        \n",
    "        output, hidden = self.rnn(x)                 \n",
    "        x = hidden.squeeze(0)                        \n",
    "        x = self.fc(x)                    \n",
    "        return x"
   ]
  },
  {
   "cell_type": "markdown",
   "metadata": {},
   "source": [
    "# Functions"
   ]
  },
  {
   "cell_type": "markdown",
   "metadata": {},
   "source": [
    "### Preprocessing"
   ]
  },
  {
   "cell_type": "markdown",
   "metadata": {},
   "source": [
    "The encoding of the text file is automatically detected here with some confidence. It could be extracted from terminal using\n",
    "```\n",
    "file -I file.txt\n",
    "```"
   ]
  },
  {
   "cell_type": "markdown",
   "metadata": {},
   "source": [
    "Terminal method (not os agnostic):"
   ]
  },
  {
   "cell_type": "code",
   "execution_count": 7,
   "metadata": {},
   "outputs": [],
   "source": [
    "#!file -i ~/Documents/StudyResources/IML/Project/Part2/_data/FinancialPhraseBank-v1.0/Sentences_50Agree.txt"
   ]
  },
  {
   "cell_type": "markdown",
   "metadata": {},
   "source": [
    "Python method:"
   ]
  },
  {
   "cell_type": "code",
   "execution_count": 8,
   "metadata": {},
   "outputs": [],
   "source": [
    "def extract_sentences_from_file(filepath):\n",
    "    \"\"\"Given an input txt file, extract sentences \n",
    "    and associated sentiments\n",
    "\n",
    "    Args:\n",
    "        filepath (string): path to string \n",
    "\n",
    "    Returns:\n",
    "        list: list of sentences and sentiments\n",
    "    \"\"\"\n",
    "    sentences = []\n",
    "    # automatically detect endoding (best guess)\n",
    "    with open(filepath, 'rb') as file:\n",
    "        encoding = chardet.detect(file.read())['encoding']\n",
    "    # read and split\n",
    "    with open(filepath, 'r', encoding=encoding) as file:\n",
    "        for line in file:\n",
    "            line = line.strip()\n",
    "            if '.@' in line:\n",
    "                sentence, sentiment = line.rsplit('.@', 1)\n",
    "                sentence = sentence.strip()\n",
    "                sentiment = sentiment.strip().lower()\n",
    "                sentence = fix_common_mojibake(sentence)\n",
    "                sentences.append((sentence, sentiment))\n",
    "    return sentences"
   ]
  },
  {
   "cell_type": "code",
   "execution_count": 9,
   "metadata": {},
   "outputs": [],
   "source": [
    "def txt_to_csv(txt_path, output_csv):\n",
    "    \"\"\"Takes a file path as input and generates a .csv file\n",
    "    which contains sentences and sentiments as columns, extracted\n",
    "    from the .txt file corresponding to the path\n",
    "\n",
    "    Args:\n",
    "        txt_path (string): path to the .txt file\n",
    "        output_csv (string): path to desired output .csv file\n",
    "    \"\"\"\n",
    "    # Skip processing if CSV already exists\n",
    "    if os.path.exists(output_csv):\n",
    "        print(f\"{output_csv} already exists. Skipping processing.\")\n",
    "        return\n",
    "\n",
    "    sentences = extract_sentences_from_file(txt_path)\n",
    "\n",
    "    with open(output_csv, 'w', newline='', encoding='utf-8') as csvfile:\n",
    "        writer = csv.writer(csvfile)\n",
    "        writer.writerow(['Sentence', 'Sentiment'])  # Header\n",
    "        writer.writerows(sentences)\n",
    "    print(f\"Processed files and wrote output to {output_csv}\")\n"
   ]
  },
  {
   "cell_type": "markdown",
   "metadata": {},
   "source": [
    "This function is needed as the text files seem to be corrupted, for example one sentence is:\n",
    "```\n",
    "Clothing retail chain Sepp+ñl+ñ 's sales increased by 8 % to EUR 155.2 mn , and operating profit rose to EUR 31.1 mn from EUR 17.1 mn in 2004\n",
    "```\n",
    "The characters `+ñ` are a result of choosing the wrong encoding; in fact, here the detected encoding is latin-1, and those characters correspond to `ä` in utf-8. The function below is used to fix these common mistakes"
   ]
  },
  {
   "cell_type": "code",
   "execution_count": 10,
   "metadata": {},
   "outputs": [],
   "source": [
    "def fix_common_mojibake(text):\n",
    "    \"\"\"Function to manually handle encoding errors\n",
    "\n",
    "    Args:\n",
    "        text (string): input sentence\n",
    "\n",
    "    Returns:\n",
    "        string: output corrected sentence\n",
    "    \"\"\"\n",
    "    replacements = {\n",
    "        '+ñ': 'ä',\n",
    "        '+í': 'é',\n",
    "        '+ô': 'ö',\n",
    "        '+ü': 'ü'\n",
    "        }\n",
    "    for wrong, right in replacements.items():\n",
    "        text = text.replace(wrong, right)\n",
    "    return text"
   ]
  },
  {
   "cell_type": "markdown",
   "metadata": {},
   "source": [
    "This function summarizes the common preprocessing pipeline for natural language models."
   ]
  },
  {
   "cell_type": "code",
   "execution_count": 11,
   "metadata": {},
   "outputs": [],
   "source": [
    "def preprocess_text(text):\n",
    "    # Tokenize the text\n",
    "    tokens = word_tokenize(text.lower())\n",
    "\n",
    "    # Remove stop words\n",
    "    filtered_tokens = [token for token in tokens if token not in stopwords.words('english')]\n",
    "\n",
    "    # Lemmatize the tokens\n",
    "    lemmatizer = WordNetLemmatizer()\n",
    "    lemmatized_tokens = [lemmatizer.lemmatize(token) for token in filtered_tokens]\n",
    "\n",
    "    # Join the tokens back into a string\n",
    "    processed_text = ' '.join(lemmatized_tokens)\n",
    "\n",
    "    return processed_text"
   ]
  },
  {
   "cell_type": "markdown",
   "metadata": {},
   "source": [
    "Function that creates csv files (if not created already) and returns the dataframe extracted from them"
   ]
  },
  {
   "cell_type": "code",
   "execution_count": 12,
   "metadata": {},
   "outputs": [],
   "source": [
    "def create_df():\n",
    "    \"\"\"Import data and creates csv's and pandas dataframes\n",
    "\n",
    "    Returns:\n",
    "        pandas dataframes for training and testing\n",
    "    \"\"\"\n",
    "    print(\"Please select which dataset to use. Data is categorized based on the percentage of agreement in the sentiment estimator.\")\n",
    "    print(\"Options:\")\n",
    "    print(\"(1) 50\")\n",
    "    print(\"(2) 66\")\n",
    "    print(\"(3) 75\")\n",
    "    print(\"(4) 100\")\n",
    "    percentage = input()\n",
    "    if percentage=='50':\n",
    "        txt_path = RAW_DATA_FOLDER + 'Sentences_50Agree.txt'\n",
    "        csv_path = DATASET_FOLDER + 'sentences_50.csv'\n",
    "        txt_to_csv(txt_path, csv_path)\n",
    "    elif percentage=='66':\n",
    "        txt_path = RAW_DATA_FOLDER + 'Sentences_66Agree.txt'\n",
    "        csv_path = DATASET_FOLDER + 'sentences_66.csv'\n",
    "        txt_to_csv(txt_path, csv_path)\n",
    "    elif percentage=='75':\n",
    "        txt_path = RAW_DATA_FOLDER + 'Sentences_75Agree.txt'\n",
    "        csv_path = DATASET_FOLDER + 'sentences_75.csv'\n",
    "        txt_to_csv(txt_path, csv_path)\n",
    "    elif percentage=='100':\n",
    "        txt_path = RAW_DATA_FOLDER + 'Sentences_AllAgree.txt'\n",
    "        csv_path = DATASET_FOLDER + 'sentences_100.csv'\n",
    "        txt_to_csv(txt_path, csv_path)\n",
    "    else:\n",
    "        print(\"The percentage provided is not admitted, skipping.\")\n",
    "        return\n",
    "\n",
    "    df = pd.read_csv(csv_path)\n",
    "\n",
    "    le = LabelEncoder()\n",
    "    le.fit(df['Sentiment'])\n",
    "    df['Sentiment_encoded'] = le.transform(df['Sentiment'])\n",
    "\n",
    "    return df, le"
   ]
  },
  {
   "cell_type": "code",
   "execution_count": 13,
   "metadata": {},
   "outputs": [],
   "source": [
    "def create_dataloaders(train_df, val_df, vocab_inst=None):\n",
    "    if vocab_inst is None:\n",
    "        vocab_inst = build_vocab(train_df)\n",
    "\n",
    "    train_dataset = TextDataset(train_df, vocab_inst)\n",
    "    val_dataset = TextDataset(val_df, vocab_inst)\n",
    "\n",
    "    collate_with_vocab = partial(collate_fn, vocab_inst=vocab_inst)\n",
    "\n",
    "    train_loader = DataLoader(train_dataset, batch_size=32, collate_fn=collate_with_vocab, shuffle=True)\n",
    "    val_loader = DataLoader(val_dataset, batch_size=32, collate_fn=collate_with_vocab)\n",
    "\n",
    "    return train_loader, val_loader, vocab_inst\n"
   ]
  },
  {
   "cell_type": "markdown",
   "metadata": {},
   "source": [
    "The following functions are needed to create token vocabulary and dataloaders"
   ]
  },
  {
   "cell_type": "code",
   "execution_count": 14,
   "metadata": {},
   "outputs": [],
   "source": [
    "def build_vocab(df):\n",
    "    counter = Counter()\n",
    "    for text in df['Sentence']:\n",
    "        counter.update(preprocess_text(text))\n",
    "\n",
    "    vocab_inst = vocab(counter, specials=[\"<PAD>\", \"<UNK>\"])\n",
    "    vocab_inst.set_default_index(vocab_inst[\"<UNK>\"])\n",
    "    return vocab_inst"
   ]
  },
  {
   "cell_type": "code",
   "execution_count": 15,
   "metadata": {},
   "outputs": [],
   "source": [
    "def encode_text(text, vocab_inst):\n",
    "    tokens = preprocess_text(text)\n",
    "    return [vocab_inst[token] for token in tokens]"
   ]
  },
  {
   "cell_type": "code",
   "execution_count": 16,
   "metadata": {},
   "outputs": [],
   "source": [
    "def collate_fn(batch, vocab_inst):\n",
    "    texts, labels = zip(*batch)\n",
    "    padded_texts = pad_sequence(texts, batch_first=True, padding_value=vocab_inst[\"<PAD>\"])\n",
    "    labels = torch.stack(labels)\n",
    "    return padded_texts, labels"
   ]
  },
  {
   "cell_type": "markdown",
   "metadata": {},
   "source": [
    "## Hyperparameter tuning"
   ]
  },
  {
   "cell_type": "markdown",
   "metadata": {},
   "source": [
    "TODO\n",
    "Maybe it's better to feed it the dictionary generated outside of the objective function?"
   ]
  },
  {
   "cell_type": "code",
   "execution_count": 17,
   "metadata": {},
   "outputs": [],
   "source": [
    "def objective_corpo(\n",
    "    trial, \n",
    "    df,\n",
    "    cv,\n",
    "    device\n",
    "    ):\n",
    "    # Sample hyperparameters\n",
    "    embed_dim = trial.suggest_int(\"embed_dim\", 64, 256, step=32)\n",
    "    lr = trial.suggest_float(\"lr\", 1e-4, 1e-2, log=True)\n",
    "    wd = trial.suggest_float(\"weight_decay\", 1e-4, 1e-1, log=True)\n",
    "    lstm_out = trial.suggest_int(\"lstm_out\", 64, 256, step=32)\n",
    "    dropout_spatial = trial.suggest_float(\"dropout_spatial\", 0.1, 0.5, step=0.2)\n",
    "    dropout_lstm = trial.suggest_float(\"dropout_lstm\", 0.1, 0.5, step=0.2)\n",
    "    dropout_1 = trial.suggest_float(\"dropout_1\", 0.1, 0.5, step=0.2)\n",
    "    dropout_2 = trial.suggest_float(\"dropout_2\", 0.1, 0.5, step=0.2)\n",
    "    dense_1 = trial.suggest_int(\"dense_1\", 64, 256, step=64)\n",
    "\n",
    "    accuracies = []\n",
    "\n",
    "    # Cross-validation loop\n",
    "    for fold_idx, (train_idx, val_idx) in enumerate(tqdm(cv.split(df, df['Sentiment_encoded']), desc=\"CV Folds\", total=cv.get_n_splits(), leave=True)):\n",
    "\n",
    "        early_stop = EarlyStopping(patience=3, mode='max')\n",
    "\n",
    "        train_df = df.iloc[train_idx].reset_index(drop=True)\n",
    "        val_df = df.iloc[val_idx].reset_index(drop=True)\n",
    "\n",
    "        # Build vocab only on training fold\n",
    "        vocab_inst = build_vocab(train_df)\n",
    "        vocab_size = len(vocab_inst)\n",
    "\n",
    "        train_loader, val_loader, _ = create_dataloaders(train_df, val_df, vocab_inst=vocab_inst)\n",
    "\n",
    "        # Define model (custom RNN or LSTM)\n",
    "        model = CorpoSpeakDecoder(\n",
    "            vocab_size, \n",
    "            embed_dim=embed_dim, \n",
    "            lstm_out=lstm_out,\n",
    "            dropout_spatial=dropout_spatial,\n",
    "            dropout_lstm=dropout_lstm, \n",
    "            dropout_1=dropout_1,\n",
    "            dropout_2=dropout_2,\n",
    "            dense_1=dense_1\n",
    "            )\n",
    "        model = model.to(device)\n",
    "\n",
    "        optimizer = torch.optim.Adam(model.parameters(), lr=lr, weight_decay=wd)\n",
    "        loss_crit = nn.CrossEntropyLoss().to(device)\n",
    "\n",
    "        # Train for 5 epochs for speed (or early stopping)\n",
    "        for epoch in tqdm(range(5), desc=f\"Training Fold {fold_idx+1}\", leave=False):\n",
    "            _, _ = training_epoch(model, optimizer, loss_crit, train_loader, device)\n",
    "            val_loss, val_acc = validation_epoch(model, loss_crit, val_loader, device)\n",
    "\n",
    "            early_stop(val_acc, model)\n",
    "            if early_stop.early_stop:\n",
    "                print(f\"Early stopping triggered on fold {fold_idx+1}, epoch {epoch+1}.\")\n",
    "                break\n",
    "\n",
    "        #early_stop.restore(model)\n",
    "        \n",
    "        # Save best accuracy score\n",
    "        accuracies.append(early_stop.best_score)\n",
    "\n",
    "    # Return average CV accuracy\n",
    "    return sum(accuracies) / len(accuracies)\n"
   ]
  },
  {
   "cell_type": "code",
   "execution_count": 18,
   "metadata": {},
   "outputs": [],
   "source": [
    "def objective_rnn(\n",
    "    trial, \n",
    "    df,\n",
    "    cv,\n",
    "    device\n",
    "    ):\n",
    "    # Sample hyperparameters\n",
    "    embed_dim = trial.suggest_int(\"embed_dim\", 16, 112, step=32)\n",
    "    lr = trial.suggest_float(\"lr\", 1e-4, 1e-2, log=True)\n",
    "    wd = trial.suggest_float(\"weight_decay\", 1e-4, 1e-1, log=True)\n",
    "    rnn_units = trial.suggest_int(\"rnn_units\", 32, 128, step=32)\n",
    "\n",
    "    accuracies = []\n",
    "\n",
    "    # Cross-validation loop\n",
    "    for fold_idx, (train_idx, val_idx) in enumerate(tqdm(cv.split(df, df['Sentiment_encoded']), desc=\"CV Folds\", total=cv.get_n_splits(), leave=True)):\n",
    "\n",
    "        early_stop = EarlyStopping(patience=3, mode='max')\n",
    "\n",
    "        train_df = df.iloc[train_idx].reset_index(drop=True)\n",
    "        val_df = df.iloc[val_idx].reset_index(drop=True)\n",
    "\n",
    "        # Build vocab only on training fold\n",
    "        vocab_inst = build_vocab(train_df)\n",
    "        vocab_size = len(vocab_inst)\n",
    "\n",
    "        train_loader, val_loader, _ = create_dataloaders(train_df, val_df, vocab_inst=vocab_inst)\n",
    "\n",
    "        # Define model (custom RNN or LSTM)\n",
    "        model = SimpleRNNClassifier(\n",
    "            vocab_size, \n",
    "            embedding_dim=embed_dim,\n",
    "            rnn_units=rnn_units, \n",
    "            num_classes=3\n",
    "            )\n",
    "        model = model.to(device)\n",
    "\n",
    "        optimizer = torch.optim.Adam(model.parameters(), lr=lr, weight_decay=wd)\n",
    "        loss_crit = nn.CrossEntropyLoss().to(device)\n",
    "\n",
    "        # Train for 5 epochs for speed (or early stopping)\n",
    "        for epoch in tqdm(range(5), desc=f\"Training Fold {fold_idx+1}\", leave=False):\n",
    "            _, _ = training_epoch(model, optimizer, loss_crit, train_loader, device)\n",
    "            val_loss, val_acc = validation_epoch(model, loss_crit, val_loader, device)\n",
    "\n",
    "            early_stop(val_acc, model)\n",
    "            if early_stop.early_stop:\n",
    "                print(f\"Early stopping triggered on fold {fold_idx+1}, epoch {epoch+1}.\")\n",
    "                break\n",
    "\n",
    "        #early_stop.restore(model)\n",
    "        \n",
    "        # Save best accuracy score\n",
    "        accuracies.append(early_stop.best_score)\n",
    "\n",
    "    # Return average CV accuracy\n",
    "    return sum(accuracies) / len(accuracies)\n"
   ]
  },
  {
   "cell_type": "markdown",
   "metadata": {},
   "source": [
    "## Training"
   ]
  },
  {
   "cell_type": "markdown",
   "metadata": {},
   "source": [
    "Define training and validation epochs"
   ]
  },
  {
   "cell_type": "code",
   "execution_count": 19,
   "metadata": {},
   "outputs": [],
   "source": [
    "def training_epoch(model, optimizer, loss_crit, train_loader, device):\n",
    "    model.train()\n",
    "    avg_train_loss = 0\n",
    "    correct_train = 0\n",
    "    total_train = 0\n",
    "    \n",
    "    # Load batches and train\n",
    "    for batch_x, batch_y in train_loader:\n",
    "        batch_x, batch_y = batch_x.to(device), batch_y.to(device)  # Move data to device\n",
    "        optimizer.zero_grad()\n",
    "        outputs = model(batch_x)\n",
    "\n",
    "        # Compute loss\n",
    "        loss = loss_crit(outputs, batch_y)\n",
    "        loss.backward()\n",
    "        optimizer.step()\n",
    "\n",
    "        # Accumulate train loss\n",
    "        avg_train_loss += loss.item() * batch_x.size(0)\n",
    "\n",
    "        # Accumulate train accuracy\n",
    "        _, predicted = torch.max(outputs, 1)\n",
    "        correct_train += (predicted == batch_y).sum().item()\n",
    "        total_train += batch_y.size(0)\n",
    "    \n",
    "    # Average training loss and accuracy over batches\n",
    "    avg_train_loss /= total_train\n",
    "    avg_train_accuracy = correct_train / total_train\n",
    "\n",
    "    return avg_train_loss, avg_train_accuracy"
   ]
  },
  {
   "cell_type": "code",
   "execution_count": 20,
   "metadata": {},
   "outputs": [],
   "source": [
    "def validation_epoch(model, criterion, val_loader, device):\n",
    "    model.eval()\n",
    "    avg_val_loss = 0\n",
    "    correct_val = 0\n",
    "    total_val = 0\n",
    "    \n",
    "    with torch.no_grad(): # No training\n",
    "        for batch_x, batch_y in val_loader:\n",
    "            batch_x, batch_y = batch_x.to(device), batch_y.to(device)  # Move data to device\n",
    "            outputs = model(batch_x)\n",
    "\n",
    "            # Compute loss\n",
    "            loss = criterion(outputs, batch_y)\n",
    "\n",
    "            # Accumulate train loss\n",
    "            avg_val_loss += loss.item() * batch_x.size(0)\n",
    "\n",
    "            # Accumulate validation accuracy\n",
    "            _, predicted = torch.max(outputs, 1)\n",
    "            correct_val += (predicted == batch_y).sum().item()\n",
    "            total_val += batch_y.size(0)\n",
    "\n",
    "    \n",
    "    # Average validation loss for the fold\n",
    "    avg_val_loss /= total_val\n",
    "    avg_val_accuracy = correct_val / total_val\n",
    "    \n",
    "    return avg_val_loss, avg_val_accuracy"
   ]
  },
  {
   "cell_type": "code",
   "execution_count": 21,
   "metadata": {},
   "outputs": [],
   "source": [
    "def train_model(\n",
    "    model,\n",
    "    df_train,\n",
    "    vocab_inst,\n",
    "    device,\n",
    "    best_params=None,\n",
    "    num_epochs=10,\n",
    "    early_stopping=None\n",
    "    ):\n",
    "\n",
    "    train_df, val_df = train_test_split(\n",
    "        df_train,\n",
    "        test_size=0.2,\n",
    "        stratify=df_train[\"Sentiment_encoded\"],\n",
    "        random_state=42\n",
    "        )\n",
    "\n",
    "    train_loader, val_loader, vocab_inst = create_dataloaders(train_df, val_df, vocab_inst=vocab_inst)\n",
    "\n",
    "    history = {\n",
    "        \"train_loss\": [],\n",
    "        \"train_acc\": [],\n",
    "        \"val_loss\": [],\n",
    "        \"val_acc\": []\n",
    "        }\n",
    "        \n",
    "    if best_params:\n",
    "        wd = best_params['weight_decay']\n",
    "        lr = best_params['lr']\n",
    "    else:\n",
    "        wd = 0.01\n",
    "        lr = 0.001\n",
    "\n",
    "    early_stop = EarlyStopping(patience=5, mode='max')\n",
    "\n",
    "    optimizer = torch.optim.Adam(model.parameters(), lr=lr, weight_decay=wd)\n",
    "    loss_crit = nn.CrossEntropyLoss().to(device)\n",
    "\n",
    "    for epoch in tqdm(range(1, num_epochs + 1), desc=\"Training Epochs\"):\n",
    "\n",
    "        print(f\"Epoch {epoch}/{num_epochs}\")\n",
    "\n",
    "        # Training step\n",
    "        train_loss, train_acc = training_epoch(model, optimizer, loss_crit, train_loader, device)\n",
    "\n",
    "        # Validation step\n",
    "        val_loss, val_acc = validation_epoch(model, loss_crit, val_loader, device)\n",
    "\n",
    "        # Log metrics\n",
    "        history[\"train_loss\"].append(train_loss)\n",
    "        history[\"train_acc\"].append(train_acc)\n",
    "        history[\"val_loss\"].append(val_loss)\n",
    "        history[\"val_acc\"].append(val_acc)\n",
    "\n",
    "        print(f\"Train Loss: {train_loss:.4f}, Acc: {train_acc:.4f} | Val Loss: {val_loss:.4f}, Acc: {val_acc:.4f}\")\n",
    "\n",
    "        early_stop(val_acc, model)\n",
    "        if early_stop.early_stop:\n",
    "            print(f\"Early stopping triggered\")\n",
    "            break\n",
    "\n",
    "    early_stop.restore(model)\n",
    "\n",
    "    return model, history\n"
   ]
  },
  {
   "cell_type": "markdown",
   "metadata": {},
   "source": [
    "### Preliminary evaluation"
   ]
  },
  {
   "cell_type": "code",
   "execution_count": 22,
   "metadata": {},
   "outputs": [],
   "source": [
    "def cross_validate_model(\n",
    "    model, \n",
    "    df_train, \n",
    "    device,\n",
    "    cv, \n",
    "    best_params = None,\n",
    "    epochs=10,\n",
    "    ):\n",
    "    \n",
    "    val_scores = []\n",
    "\n",
    "    if best_params:\n",
    "        wd = best_params['weight_decay']\n",
    "        lr = best_params['lr']\n",
    "    else:\n",
    "        wd = 0.01\n",
    "        lr = 0.001\n",
    "    \n",
    "\n",
    "    for fold_idx, (train_idx, val_idx) in enumerate(tqdm(cv.split(df_train, df_train['Sentiment_encoded']), desc=\"CV Folds\", total=cv.get_n_splits(), leave=True)):\n",
    "        \n",
    "        early_stop = EarlyStopping(patience=3, mode='max')\n",
    "\n",
    "        train_df = df.iloc[train_idx].reset_index(drop=True)\n",
    "        val_df = df.iloc[val_idx].reset_index(drop=True)\n",
    "\n",
    "        train_loader, val_loader, _ = create_dataloaders(train_df, val_df, vocab_inst=vocab_inst)\n",
    "\n",
    "        # New model for each fold\n",
    "        model_copy = model\n",
    "        model_copy = model_copy.to(device)\n",
    "\n",
    "        optimizer = torch.optim.Adam(model_copy.parameters(), lr=lr, weight_decay=wd)\n",
    "        loss_crit = nn.CrossEntropyLoss().to(device)\n",
    "\n",
    "        # Training\n",
    "        for epoch in tqdm(range(epochs), desc=f\"Training Fold {fold_idx+1}\", leave=False):\n",
    "            _, _ = training_epoch(model_copy, optimizer, loss_crit, train_loader, device)\n",
    "            val_loss, val_acc = validation_epoch(model_copy, loss_crit, val_loader, device)\n",
    "\n",
    "            early_stop(val_acc, model_copy)\n",
    "            if early_stop.early_stop:\n",
    "                print(f\"Early stopping triggered on fold {fold_idx+1}, epoch {epoch+1}.\")\n",
    "                break\n",
    "\n",
    "        val_scores.append(early_stop.best_score)\n",
    "\n",
    "    avg_score = np.mean(val_scores)\n",
    "    dev_score = np.std(val_scores)\n",
    "    print(f\"Validation Score: {avg_score:.4f} ± {dev_score:.4f}\")\n",
    "    return val_scores"
   ]
  },
  {
   "cell_type": "markdown",
   "metadata": {},
   "source": [
    "## Evaluation"
   ]
  },
  {
   "cell_type": "code",
   "execution_count": 23,
   "metadata": {},
   "outputs": [],
   "source": [
    "def evaluate_model_sklearn(model, dataloader, num_classes, device='cpu'):\n",
    "    model.eval()\n",
    "    all_preds = []\n",
    "    all_probs = []\n",
    "    all_labels = []\n",
    "\n",
    "    with torch.no_grad():\n",
    "        for batch in dataloader:\n",
    "            inputs, labels = batch\n",
    "            inputs = inputs.to(device)\n",
    "            labels = labels.to(device)\n",
    "\n",
    "            outputs = model(inputs)\n",
    "            probs = outputs.detach().cpu().numpy()\n",
    "            preds = np.argmax(probs, axis=1)\n",
    "\n",
    "            all_probs.extend(probs)\n",
    "            all_preds.extend(preds)\n",
    "            all_labels.extend(labels.cpu().numpy())\n",
    "\n",
    "    all_probs = np.array(all_probs)\n",
    "    all_preds = np.array(all_preds)\n",
    "    all_labels = np.array(all_labels)\n",
    "\n",
    "    print(\"📊 Evaluation Results\")\n",
    "    print(\"-------------------------\")\n",
    "    print(f\"Accuracy         : {accuracy_score(all_labels, all_preds):.4f}\")\n",
    "    print(f\"Precision (macro): {precision_score(all_labels, all_preds, average='macro'):.4f}\")\n",
    "    print(f\"Recall    (macro): {recall_score(all_labels, all_preds, average='macro'):.4f}\")\n",
    "    print(f\"F1 Score  (macro): {f1_score(all_labels, all_preds, average='macro'):.4f}\")\n",
    "    print(\"\\nConfusion Matrix:\")\n",
    "    print(confusion_matrix(all_labels, all_preds))\n",
    "\n",
    "    # Binarize the labels for ROC computation\n",
    "    y_true_bin = label_binarize(all_labels, classes=np.arange(num_classes))\n",
    "\n",
    "    # Compute ROC curve and AUC for each class\n",
    "    fpr = dict()\n",
    "    tpr = dict()\n",
    "    roc_auc = dict()\n",
    "\n",
    "    for i in range(num_classes):\n",
    "        fpr[i], tpr[i], _ = roc_curve(y_true_bin[:, i], all_probs[:, i])\n",
    "        roc_auc[i] = auc(fpr[i], tpr[i])\n",
    "\n",
    "    # Compute macro-average ROC curve and AUC\n",
    "    all_fpr = np.unique(np.concatenate([fpr[i] for i in range(num_classes)]))\n",
    "    mean_tpr = np.zeros_like(all_fpr)\n",
    "\n",
    "    for i in range(num_classes):\n",
    "        mean_tpr += np.interp(all_fpr, fpr[i], tpr[i])\n",
    "\n",
    "    mean_tpr /= num_classes\n",
    "    fpr[\"macro\"] = all_fpr\n",
    "    tpr[\"macro\"] = mean_tpr\n",
    "    roc_auc[\"macro\"] = auc(fpr[\"macro\"], tpr[\"macro\"])\n",
    "\n",
    "    print(f\"\\nROC-AUC (macro-average): {roc_auc['macro']:.4f}\")\n",
    "\n",
    "    # Plot all ROC curves\n",
    "    plt.figure(figsize=(8, 6))\n",
    "    for i in range(num_classes):\n",
    "        plt.plot(fpr[i], tpr[i], label=f\"Class {i} (AUC = {roc_auc[i]:.2f})\")\n",
    "    plt.plot(fpr[\"macro\"], tpr[\"macro\"], label=f\"Macro Avg (AUC = {roc_auc['macro']:.2f})\", \n",
    "             linestyle='--', color='navy')\n",
    "    plt.plot([0, 1], [0, 1], 'k--', lw=1)\n",
    "    plt.xlim([0.0, 1.0])\n",
    "    plt.ylim([0.0, 1.05])\n",
    "    plt.xlabel('False Positive Rate')\n",
    "    plt.ylabel('True Positive Rate')\n",
    "    plt.title('Multiclass ROC Curves')\n",
    "    plt.legend(loc=\"lower right\")\n",
    "    plt.grid(True)\n",
    "    plt.tight_layout()\n",
    "    plt.show()"
   ]
  },
  {
   "cell_type": "markdown",
   "metadata": {},
   "source": [
    "TODO multiple folds"
   ]
  },
  {
   "cell_type": "markdown",
   "metadata": {},
   "source": [
    "# Main"
   ]
  },
  {
   "cell_type": "markdown",
   "metadata": {},
   "source": [
    "## Import data and create dataframes"
   ]
  },
  {
   "cell_type": "markdown",
   "metadata": {},
   "source": [
    "OS-agnostic working folder and data folder definition"
   ]
  },
  {
   "cell_type": "code",
   "execution_count": 24,
   "metadata": {},
   "outputs": [],
   "source": [
    "CodeDirectory = Path(os.path.abspath(''))\n",
    "DATASET_FOLDER = os.path.join(str(CodeDirectory.parent.absolute()), \"_data\",\"\")\n",
    "RAW_DATA_FOLDER = os.path.join(str(DATASET_FOLDER), \"FinancialPhraseBank-v1.0\",\"\")"
   ]
  },
  {
   "cell_type": "code",
   "execution_count": 25,
   "metadata": {},
   "outputs": [],
   "source": [
    "data_csv_path = DATASET_FOLDER+'data.csv'"
   ]
  },
  {
   "cell_type": "markdown",
   "metadata": {},
   "source": [
    "Import data into pandas dataframe"
   ]
  },
  {
   "cell_type": "code",
   "execution_count": 26,
   "metadata": {},
   "outputs": [
    {
     "name": "stdout",
     "output_type": "stream",
     "text": [
      "Please select which dataset to use. Data is categorized based on the percentage of agreement in the sentiment estimator.\n",
      "Options:\n",
      "(1) 50\n",
      "(2) 66\n",
      "(3) 75\n",
      "(4) 100\n",
      "/Users/exterior/Documents/IML/Project/Part2/_data/sentences_100.csv already exists. Skipping processing.\n"
     ]
    }
   ],
   "source": [
    "df, le = create_df()"
   ]
  },
  {
   "cell_type": "code",
   "execution_count": 27,
   "metadata": {},
   "outputs": [
    {
     "name": "stdout",
     "output_type": "stream",
     "text": [
      "<class 'pandas.core.frame.DataFrame'>\n",
      "RangeIndex: 2208 entries, 0 to 2207\n",
      "Data columns (total 3 columns):\n",
      " #   Column             Non-Null Count  Dtype \n",
      "---  ------             --------------  ----- \n",
      " 0   Sentence           2208 non-null   object\n",
      " 1   Sentiment          2208 non-null   object\n",
      " 2   Sentiment_encoded  2208 non-null   int64 \n",
      "dtypes: int64(1), object(2)\n",
      "memory usage: 51.9+ KB\n"
     ]
    }
   ],
   "source": [
    "df.info()"
   ]
  },
  {
   "cell_type": "markdown",
   "metadata": {},
   "source": [
    "Split data into testing and training"
   ]
  },
  {
   "cell_type": "code",
   "execution_count": 28,
   "metadata": {},
   "outputs": [],
   "source": [
    "df_train, df_test = train_test_split(\n",
    "    df,\n",
    "    test_size=0.2,\n",
    "    stratify=df[\"Sentiment_encoded\"],\n",
    "    random_state=42\n",
    "    )"
   ]
  },
  {
   "cell_type": "markdown",
   "metadata": {},
   "source": [
    "## Preliminary analysis"
   ]
  },
  {
   "cell_type": "markdown",
   "metadata": {},
   "source": [
    "## Train"
   ]
  },
  {
   "cell_type": "markdown",
   "metadata": {},
   "source": [
    "### Hyperparameter search"
   ]
  },
  {
   "cell_type": "markdown",
   "metadata": {},
   "source": [
    "Select device"
   ]
  },
  {
   "cell_type": "code",
   "execution_count": 29,
   "metadata": {},
   "outputs": [],
   "source": [
    "device = torch.device(\"cuda\" if torch.cuda.is_available() else \"cpu\")"
   ]
  },
  {
   "cell_type": "code",
   "execution_count": 30,
   "metadata": {},
   "outputs": [],
   "source": [
    "skf = StratifiedKFold(n_splits=5, shuffle=True, random_state=42)"
   ]
  },
  {
   "cell_type": "code",
   "execution_count": 31,
   "metadata": {},
   "outputs": [],
   "source": [
    "rskf = RepeatedStratifiedKFold(n_repeats=3, n_splits=3, random_state=42)"
   ]
  },
  {
   "cell_type": "markdown",
   "metadata": {},
   "source": [
    "Hyperparameter search"
   ]
  },
  {
   "cell_type": "code",
   "execution_count": 32,
   "metadata": {},
   "outputs": [
    {
     "name": "stderr",
     "output_type": "stream",
     "text": [
      "[I 2025-06-19 17:41:42,168] A new study created in memory with name: no-name-6b830db7-5c53-4c94-ba55-fdf89ff00b18\n"
     ]
    },
    {
     "data": {
      "application/vnd.jupyter.widget-view+json": {
       "model_id": "541a78bf7f7b4922a8520afe16367aee",
       "version_major": 2,
       "version_minor": 0
      },
      "text/plain": [
       "CV Folds:   0%|          | 0/9 [00:00<?, ?it/s]"
      ]
     },
     "metadata": {},
     "output_type": "display_data"
    },
    {
     "data": {
      "application/vnd.jupyter.widget-view+json": {
       "model_id": "de93e284bb0b4ae583ce8df26a6267de",
       "version_major": 2,
       "version_minor": 0
      },
      "text/plain": [
       "Training Fold 1:   0%|          | 0/5 [00:00<?, ?it/s]"
      ]
     },
     "metadata": {},
     "output_type": "display_data"
    },
    {
     "data": {
      "application/vnd.jupyter.widget-view+json": {
       "model_id": "4b054a72bf33449fa1546ee161d12696",
       "version_major": 2,
       "version_minor": 0
      },
      "text/plain": [
       "Training Fold 2:   0%|          | 0/5 [00:00<?, ?it/s]"
      ]
     },
     "metadata": {},
     "output_type": "display_data"
    },
    {
     "data": {
      "application/vnd.jupyter.widget-view+json": {
       "model_id": "69d67ef933f64326bcef7178c74c5f42",
       "version_major": 2,
       "version_minor": 0
      },
      "text/plain": [
       "Training Fold 3:   0%|          | 0/5 [00:00<?, ?it/s]"
      ]
     },
     "metadata": {},
     "output_type": "display_data"
    },
    {
     "data": {
      "application/vnd.jupyter.widget-view+json": {
       "model_id": "b6b892de48914967a96ccb68178bd3c7",
       "version_major": 2,
       "version_minor": 0
      },
      "text/plain": [
       "Training Fold 4:   0%|          | 0/5 [00:00<?, ?it/s]"
      ]
     },
     "metadata": {},
     "output_type": "display_data"
    },
    {
     "name": "stdout",
     "output_type": "stream",
     "text": [
      "Early stopping triggered on fold 4, epoch 4.\n"
     ]
    },
    {
     "data": {
      "application/vnd.jupyter.widget-view+json": {
       "model_id": "98ca47f6bbb04647ab3bb8d153ad9cd7",
       "version_major": 2,
       "version_minor": 0
      },
      "text/plain": [
       "Training Fold 5:   0%|          | 0/5 [00:00<?, ?it/s]"
      ]
     },
     "metadata": {},
     "output_type": "display_data"
    },
    {
     "name": "stdout",
     "output_type": "stream",
     "text": [
      "Early stopping triggered on fold 5, epoch 4.\n"
     ]
    },
    {
     "data": {
      "application/vnd.jupyter.widget-view+json": {
       "model_id": "c038ed86fdf3437d956237e44f18a0db",
       "version_major": 2,
       "version_minor": 0
      },
      "text/plain": [
       "Training Fold 6:   0%|          | 0/5 [00:00<?, ?it/s]"
      ]
     },
     "metadata": {},
     "output_type": "display_data"
    },
    {
     "data": {
      "application/vnd.jupyter.widget-view+json": {
       "model_id": "9edee0eec842411185cbfb6526a2184b",
       "version_major": 2,
       "version_minor": 0
      },
      "text/plain": [
       "Training Fold 7:   0%|          | 0/5 [00:00<?, ?it/s]"
      ]
     },
     "metadata": {},
     "output_type": "display_data"
    },
    {
     "data": {
      "application/vnd.jupyter.widget-view+json": {
       "model_id": "dff1899ab00f46e790ac8cc62dc790b5",
       "version_major": 2,
       "version_minor": 0
      },
      "text/plain": [
       "Training Fold 8:   0%|          | 0/5 [00:00<?, ?it/s]"
      ]
     },
     "metadata": {},
     "output_type": "display_data"
    },
    {
     "data": {
      "application/vnd.jupyter.widget-view+json": {
       "model_id": "a6904b67ba784d658a9140cb0224b0d2",
       "version_major": 2,
       "version_minor": 0
      },
      "text/plain": [
       "Training Fold 9:   0%|          | 0/5 [00:00<?, ?it/s]"
      ]
     },
     "metadata": {},
     "output_type": "display_data"
    },
    {
     "name": "stderr",
     "output_type": "stream",
     "text": [
      "[I 2025-06-19 17:44:40,630] Trial 0 finished with value: 0.616243961352657 and parameters: {'embed_dim': 112, 'lr': 0.0014789211435075106, 'weight_decay': 0.012800954826601414, 'rnn_units': 96}. Best is trial 0 with value: 0.616243961352657.\n"
     ]
    },
    {
     "data": {
      "application/vnd.jupyter.widget-view+json": {
       "model_id": "839947bedb5a48df8b70bed230a108c1",
       "version_major": 2,
       "version_minor": 0
      },
      "text/plain": [
       "CV Folds:   0%|          | 0/9 [00:00<?, ?it/s]"
      ]
     },
     "metadata": {},
     "output_type": "display_data"
    },
    {
     "data": {
      "application/vnd.jupyter.widget-view+json": {
       "model_id": "9599a1637a4a4aa389b503ecd6755b0e",
       "version_major": 2,
       "version_minor": 0
      },
      "text/plain": [
       "Training Fold 1:   0%|          | 0/5 [00:00<?, ?it/s]"
      ]
     },
     "metadata": {},
     "output_type": "display_data"
    },
    {
     "data": {
      "application/vnd.jupyter.widget-view+json": {
       "model_id": "ed2d1a84433649a69813c9d9ee661d4e",
       "version_major": 2,
       "version_minor": 0
      },
      "text/plain": [
       "Training Fold 2:   0%|          | 0/5 [00:00<?, ?it/s]"
      ]
     },
     "metadata": {},
     "output_type": "display_data"
    },
    {
     "name": "stdout",
     "output_type": "stream",
     "text": [
      "Early stopping triggered on fold 2, epoch 5.\n"
     ]
    },
    {
     "data": {
      "application/vnd.jupyter.widget-view+json": {
       "model_id": "624653277c1c4ecb9c469e8ab223370c",
       "version_major": 2,
       "version_minor": 0
      },
      "text/plain": [
       "Training Fold 3:   0%|          | 0/5 [00:00<?, ?it/s]"
      ]
     },
     "metadata": {},
     "output_type": "display_data"
    },
    {
     "data": {
      "application/vnd.jupyter.widget-view+json": {
       "model_id": "dbcb94a1b3d44c8182973f246cab1a21",
       "version_major": 2,
       "version_minor": 0
      },
      "text/plain": [
       "Training Fold 4:   0%|          | 0/5 [00:00<?, ?it/s]"
      ]
     },
     "metadata": {},
     "output_type": "display_data"
    },
    {
     "data": {
      "application/vnd.jupyter.widget-view+json": {
       "model_id": "3ba466143f2c4e2c9a4e6c7dba6b409b",
       "version_major": 2,
       "version_minor": 0
      },
      "text/plain": [
       "Training Fold 5:   0%|          | 0/5 [00:00<?, ?it/s]"
      ]
     },
     "metadata": {},
     "output_type": "display_data"
    },
    {
     "data": {
      "application/vnd.jupyter.widget-view+json": {
       "model_id": "149e365db4ad45c19ba44e70a715d5ca",
       "version_major": 2,
       "version_minor": 0
      },
      "text/plain": [
       "Training Fold 6:   0%|          | 0/5 [00:00<?, ?it/s]"
      ]
     },
     "metadata": {},
     "output_type": "display_data"
    },
    {
     "name": "stdout",
     "output_type": "stream",
     "text": [
      "Early stopping triggered on fold 6, epoch 5.\n"
     ]
    },
    {
     "data": {
      "application/vnd.jupyter.widget-view+json": {
       "model_id": "735febebe74946ef88ab5659b13ef2ef",
       "version_major": 2,
       "version_minor": 0
      },
      "text/plain": [
       "Training Fold 7:   0%|          | 0/5 [00:00<?, ?it/s]"
      ]
     },
     "metadata": {},
     "output_type": "display_data"
    },
    {
     "data": {
      "application/vnd.jupyter.widget-view+json": {
       "model_id": "630af18978d249eab1ad8bf7358e19d3",
       "version_major": 2,
       "version_minor": 0
      },
      "text/plain": [
       "Training Fold 8:   0%|          | 0/5 [00:00<?, ?it/s]"
      ]
     },
     "metadata": {},
     "output_type": "display_data"
    },
    {
     "name": "stdout",
     "output_type": "stream",
     "text": [
      "Early stopping triggered on fold 8, epoch 5.\n"
     ]
    },
    {
     "data": {
      "application/vnd.jupyter.widget-view+json": {
       "model_id": "4d8490e519fd4229affaa5d95d188460",
       "version_major": 2,
       "version_minor": 0
      },
      "text/plain": [
       "Training Fold 9:   0%|          | 0/5 [00:00<?, ?it/s]"
      ]
     },
     "metadata": {},
     "output_type": "display_data"
    },
    {
     "name": "stderr",
     "output_type": "stream",
     "text": [
      "[I 2025-06-19 17:47:40,075] Trial 1 finished with value: 0.6091485507246377 and parameters: {'embed_dim': 80, 'lr': 0.00013514866837327085, 'weight_decay': 0.05268203716976238, 'rnn_units': 96}. Best is trial 0 with value: 0.616243961352657.\n"
     ]
    },
    {
     "data": {
      "application/vnd.jupyter.widget-view+json": {
       "model_id": "6fb9d88894444d898a7d610fc82d2579",
       "version_major": 2,
       "version_minor": 0
      },
      "text/plain": [
       "CV Folds:   0%|          | 0/9 [00:00<?, ?it/s]"
      ]
     },
     "metadata": {},
     "output_type": "display_data"
    },
    {
     "data": {
      "application/vnd.jupyter.widget-view+json": {
       "model_id": "98100a55ddf042c2b28440809de52828",
       "version_major": 2,
       "version_minor": 0
      },
      "text/plain": [
       "Training Fold 1:   0%|          | 0/5 [00:00<?, ?it/s]"
      ]
     },
     "metadata": {},
     "output_type": "display_data"
    },
    {
     "data": {
      "application/vnd.jupyter.widget-view+json": {
       "model_id": "4a95b4996a324399990d690f9685a940",
       "version_major": 2,
       "version_minor": 0
      },
      "text/plain": [
       "Training Fold 2:   0%|          | 0/5 [00:00<?, ?it/s]"
      ]
     },
     "metadata": {},
     "output_type": "display_data"
    },
    {
     "data": {
      "application/vnd.jupyter.widget-view+json": {
       "model_id": "9010a49d7f61420191d5fa42d400428b",
       "version_major": 2,
       "version_minor": 0
      },
      "text/plain": [
       "Training Fold 3:   0%|          | 0/5 [00:00<?, ?it/s]"
      ]
     },
     "metadata": {},
     "output_type": "display_data"
    },
    {
     "data": {
      "application/vnd.jupyter.widget-view+json": {
       "model_id": "cd6582ad3d574737bd39196d4ba318a7",
       "version_major": 2,
       "version_minor": 0
      },
      "text/plain": [
       "Training Fold 4:   0%|          | 0/5 [00:00<?, ?it/s]"
      ]
     },
     "metadata": {},
     "output_type": "display_data"
    },
    {
     "data": {
      "application/vnd.jupyter.widget-view+json": {
       "model_id": "fdc49abcd43d42cea7cbe48ee527346a",
       "version_major": 2,
       "version_minor": 0
      },
      "text/plain": [
       "Training Fold 5:   0%|          | 0/5 [00:00<?, ?it/s]"
      ]
     },
     "metadata": {},
     "output_type": "display_data"
    },
    {
     "data": {
      "application/vnd.jupyter.widget-view+json": {
       "model_id": "8822532262ad4ddaa78990cebda86d5b",
       "version_major": 2,
       "version_minor": 0
      },
      "text/plain": [
       "Training Fold 6:   0%|          | 0/5 [00:00<?, ?it/s]"
      ]
     },
     "metadata": {},
     "output_type": "display_data"
    },
    {
     "data": {
      "application/vnd.jupyter.widget-view+json": {
       "model_id": "d40cdf311f3445688e501aaedf434937",
       "version_major": 2,
       "version_minor": 0
      },
      "text/plain": [
       "Training Fold 7:   0%|          | 0/5 [00:00<?, ?it/s]"
      ]
     },
     "metadata": {},
     "output_type": "display_data"
    },
    {
     "data": {
      "application/vnd.jupyter.widget-view+json": {
       "model_id": "921062136305483ea0ebe7aa3ec3d545",
       "version_major": 2,
       "version_minor": 0
      },
      "text/plain": [
       "Training Fold 8:   0%|          | 0/5 [00:00<?, ?it/s]"
      ]
     },
     "metadata": {},
     "output_type": "display_data"
    },
    {
     "data": {
      "application/vnd.jupyter.widget-view+json": {
       "model_id": "7712ad7eac5c47048e2639be3869cf1f",
       "version_major": 2,
       "version_minor": 0
      },
      "text/plain": [
       "Training Fold 9:   0%|          | 0/5 [00:00<?, ?it/s]"
      ]
     },
     "metadata": {},
     "output_type": "display_data"
    },
    {
     "name": "stderr",
     "output_type": "stream",
     "text": [
      "[I 2025-06-19 17:50:38,959] Trial 2 finished with value: 0.6139794685990339 and parameters: {'embed_dim': 80, 'lr': 0.0007611779549887681, 'weight_decay': 0.0018229077246780577, 'rnn_units': 96}. Best is trial 0 with value: 0.616243961352657.\n"
     ]
    },
    {
     "data": {
      "application/vnd.jupyter.widget-view+json": {
       "model_id": "5e729e461d8144d6817884fc6738dc2e",
       "version_major": 2,
       "version_minor": 0
      },
      "text/plain": [
       "CV Folds:   0%|          | 0/9 [00:00<?, ?it/s]"
      ]
     },
     "metadata": {},
     "output_type": "display_data"
    },
    {
     "data": {
      "application/vnd.jupyter.widget-view+json": {
       "model_id": "23481f01104f49148dcb53e4696212a0",
       "version_major": 2,
       "version_minor": 0
      },
      "text/plain": [
       "Training Fold 1:   0%|          | 0/5 [00:00<?, ?it/s]"
      ]
     },
     "metadata": {},
     "output_type": "display_data"
    },
    {
     "name": "stdout",
     "output_type": "stream",
     "text": [
      "Early stopping triggered on fold 1, epoch 5.\n"
     ]
    },
    {
     "data": {
      "application/vnd.jupyter.widget-view+json": {
       "model_id": "6961db983ca84fa1b1f60b3fb05267ed",
       "version_major": 2,
       "version_minor": 0
      },
      "text/plain": [
       "Training Fold 2:   0%|          | 0/5 [00:00<?, ?it/s]"
      ]
     },
     "metadata": {},
     "output_type": "display_data"
    },
    {
     "name": "stdout",
     "output_type": "stream",
     "text": [
      "Early stopping triggered on fold 2, epoch 5.\n"
     ]
    },
    {
     "data": {
      "application/vnd.jupyter.widget-view+json": {
       "model_id": "56c2de84a7c94d769dfcc56a3a44832e",
       "version_major": 2,
       "version_minor": 0
      },
      "text/plain": [
       "Training Fold 3:   0%|          | 0/5 [00:00<?, ?it/s]"
      ]
     },
     "metadata": {},
     "output_type": "display_data"
    },
    {
     "name": "stdout",
     "output_type": "stream",
     "text": [
      "Early stopping triggered on fold 3, epoch 5.\n"
     ]
    },
    {
     "data": {
      "application/vnd.jupyter.widget-view+json": {
       "model_id": "b8b84fe9fc304802a6bb2795b7a1c052",
       "version_major": 2,
       "version_minor": 0
      },
      "text/plain": [
       "Training Fold 4:   0%|          | 0/5 [00:00<?, ?it/s]"
      ]
     },
     "metadata": {},
     "output_type": "display_data"
    },
    {
     "name": "stdout",
     "output_type": "stream",
     "text": [
      "Early stopping triggered on fold 4, epoch 5.\n"
     ]
    },
    {
     "data": {
      "application/vnd.jupyter.widget-view+json": {
       "model_id": "5684a70511c44b539c2a043dacd70550",
       "version_major": 2,
       "version_minor": 0
      },
      "text/plain": [
       "Training Fold 5:   0%|          | 0/5 [00:00<?, ?it/s]"
      ]
     },
     "metadata": {},
     "output_type": "display_data"
    },
    {
     "name": "stdout",
     "output_type": "stream",
     "text": [
      "Early stopping triggered on fold 5, epoch 4.\n"
     ]
    },
    {
     "data": {
      "application/vnd.jupyter.widget-view+json": {
       "model_id": "e4fef8a77414454bb42bfa36a5647a91",
       "version_major": 2,
       "version_minor": 0
      },
      "text/plain": [
       "Training Fold 6:   0%|          | 0/5 [00:00<?, ?it/s]"
      ]
     },
     "metadata": {},
     "output_type": "display_data"
    },
    {
     "name": "stdout",
     "output_type": "stream",
     "text": [
      "Early stopping triggered on fold 6, epoch 4.\n"
     ]
    },
    {
     "data": {
      "application/vnd.jupyter.widget-view+json": {
       "model_id": "6852afc47d5340ae97f749f5f05cd0e4",
       "version_major": 2,
       "version_minor": 0
      },
      "text/plain": [
       "Training Fold 7:   0%|          | 0/5 [00:00<?, ?it/s]"
      ]
     },
     "metadata": {},
     "output_type": "display_data"
    },
    {
     "data": {
      "application/vnd.jupyter.widget-view+json": {
       "model_id": "7087b3d3caf0475ba6bedf38cf11ad8b",
       "version_major": 2,
       "version_minor": 0
      },
      "text/plain": [
       "Training Fold 8:   0%|          | 0/5 [00:00<?, ?it/s]"
      ]
     },
     "metadata": {},
     "output_type": "display_data"
    },
    {
     "name": "stdout",
     "output_type": "stream",
     "text": [
      "Early stopping triggered on fold 8, epoch 5.\n"
     ]
    },
    {
     "data": {
      "application/vnd.jupyter.widget-view+json": {
       "model_id": "8c3bba41941b43178d2cd66018ba0988",
       "version_major": 2,
       "version_minor": 0
      },
      "text/plain": [
       "Training Fold 9:   0%|          | 0/5 [00:00<?, ?it/s]"
      ]
     },
     "metadata": {},
     "output_type": "display_data"
    },
    {
     "name": "stderr",
     "output_type": "stream",
     "text": [
      "[I 2025-06-19 17:52:41,754] Trial 3 finished with value: 0.6159420289855073 and parameters: {'embed_dim': 80, 'lr': 0.005709454068067647, 'weight_decay': 0.0004034989014055676, 'rnn_units': 32}. Best is trial 0 with value: 0.616243961352657.\n"
     ]
    },
    {
     "name": "stdout",
     "output_type": "stream",
     "text": [
      "Early stopping triggered on fold 9, epoch 4.\n"
     ]
    },
    {
     "data": {
      "application/vnd.jupyter.widget-view+json": {
       "model_id": "2cac3f58792945788c06b56f06558621",
       "version_major": 2,
       "version_minor": 0
      },
      "text/plain": [
       "CV Folds:   0%|          | 0/9 [00:00<?, ?it/s]"
      ]
     },
     "metadata": {},
     "output_type": "display_data"
    },
    {
     "data": {
      "application/vnd.jupyter.widget-view+json": {
       "model_id": "d09c74a4e6f5498e8cdbaa0954fee7ab",
       "version_major": 2,
       "version_minor": 0
      },
      "text/plain": [
       "Training Fold 1:   0%|          | 0/5 [00:00<?, ?it/s]"
      ]
     },
     "metadata": {},
     "output_type": "display_data"
    },
    {
     "name": "stdout",
     "output_type": "stream",
     "text": [
      "Early stopping triggered on fold 1, epoch 5.\n"
     ]
    },
    {
     "data": {
      "application/vnd.jupyter.widget-view+json": {
       "model_id": "c5e6749a75da4defb69b1066bdd2195a",
       "version_major": 2,
       "version_minor": 0
      },
      "text/plain": [
       "Training Fold 2:   0%|          | 0/5 [00:00<?, ?it/s]"
      ]
     },
     "metadata": {},
     "output_type": "display_data"
    },
    {
     "name": "stdout",
     "output_type": "stream",
     "text": [
      "Early stopping triggered on fold 2, epoch 4.\n"
     ]
    },
    {
     "data": {
      "application/vnd.jupyter.widget-view+json": {
       "model_id": "7ac39bd0ecc64a82a3221a62ed73fcde",
       "version_major": 2,
       "version_minor": 0
      },
      "text/plain": [
       "Training Fold 3:   0%|          | 0/5 [00:00<?, ?it/s]"
      ]
     },
     "metadata": {},
     "output_type": "display_data"
    },
    {
     "name": "stdout",
     "output_type": "stream",
     "text": [
      "Early stopping triggered on fold 3, epoch 5.\n"
     ]
    },
    {
     "data": {
      "application/vnd.jupyter.widget-view+json": {
       "model_id": "494432eec77744b58a4931bb7153b5b9",
       "version_major": 2,
       "version_minor": 0
      },
      "text/plain": [
       "Training Fold 4:   0%|          | 0/5 [00:00<?, ?it/s]"
      ]
     },
     "metadata": {},
     "output_type": "display_data"
    },
    {
     "data": {
      "application/vnd.jupyter.widget-view+json": {
       "model_id": "1220bd3b7e0049f9ab4ccefbfbd0fa62",
       "version_major": 2,
       "version_minor": 0
      },
      "text/plain": [
       "Training Fold 5:   0%|          | 0/5 [00:00<?, ?it/s]"
      ]
     },
     "metadata": {},
     "output_type": "display_data"
    },
    {
     "data": {
      "application/vnd.jupyter.widget-view+json": {
       "model_id": "4541cf6a0892416db210c851b2abae60",
       "version_major": 2,
       "version_minor": 0
      },
      "text/plain": [
       "Training Fold 6:   0%|          | 0/5 [00:00<?, ?it/s]"
      ]
     },
     "metadata": {},
     "output_type": "display_data"
    },
    {
     "name": "stdout",
     "output_type": "stream",
     "text": [
      "Early stopping triggered on fold 6, epoch 5.\n"
     ]
    },
    {
     "data": {
      "application/vnd.jupyter.widget-view+json": {
       "model_id": "08031ac701e248bbaa9bf4d21999468e",
       "version_major": 2,
       "version_minor": 0
      },
      "text/plain": [
       "Training Fold 7:   0%|          | 0/5 [00:00<?, ?it/s]"
      ]
     },
     "metadata": {},
     "output_type": "display_data"
    },
    {
     "name": "stdout",
     "output_type": "stream",
     "text": [
      "Early stopping triggered on fold 7, epoch 5.\n"
     ]
    },
    {
     "data": {
      "application/vnd.jupyter.widget-view+json": {
       "model_id": "b5b6722eec834a55a592a4e98f404470",
       "version_major": 2,
       "version_minor": 0
      },
      "text/plain": [
       "Training Fold 8:   0%|          | 0/5 [00:00<?, ?it/s]"
      ]
     },
     "metadata": {},
     "output_type": "display_data"
    },
    {
     "name": "stdout",
     "output_type": "stream",
     "text": [
      "Early stopping triggered on fold 8, epoch 5.\n"
     ]
    },
    {
     "data": {
      "application/vnd.jupyter.widget-view+json": {
       "model_id": "271b5da3d48640fa9a21a48970cf3905",
       "version_major": 2,
       "version_minor": 0
      },
      "text/plain": [
       "Training Fold 9:   0%|          | 0/5 [00:00<?, ?it/s]"
      ]
     },
     "metadata": {},
     "output_type": "display_data"
    },
    {
     "name": "stderr",
     "output_type": "stream",
     "text": [
      "[I 2025-06-19 17:54:53,533] Trial 4 finished with value: 0.6156400966183574 and parameters: {'embed_dim': 16, 'lr': 0.0013518912611376842, 'weight_decay': 0.02608289229362822, 'rnn_units': 64}. Best is trial 0 with value: 0.616243961352657.\n"
     ]
    },
    {
     "data": {
      "application/vnd.jupyter.widget-view+json": {
       "model_id": "bd2304e60f2843ea9a8dc7d4c8c0d8d7",
       "version_major": 2,
       "version_minor": 0
      },
      "text/plain": [
       "CV Folds:   0%|          | 0/9 [00:00<?, ?it/s]"
      ]
     },
     "metadata": {},
     "output_type": "display_data"
    },
    {
     "data": {
      "application/vnd.jupyter.widget-view+json": {
       "model_id": "43712b34017c4c06b023b7e1f17d1316",
       "version_major": 2,
       "version_minor": 0
      },
      "text/plain": [
       "Training Fold 1:   0%|          | 0/5 [00:00<?, ?it/s]"
      ]
     },
     "metadata": {},
     "output_type": "display_data"
    },
    {
     "name": "stdout",
     "output_type": "stream",
     "text": [
      "Early stopping triggered on fold 1, epoch 4.\n"
     ]
    },
    {
     "data": {
      "application/vnd.jupyter.widget-view+json": {
       "model_id": "9ba66c5c5c634272a79f65ae3f0be3a5",
       "version_major": 2,
       "version_minor": 0
      },
      "text/plain": [
       "Training Fold 2:   0%|          | 0/5 [00:00<?, ?it/s]"
      ]
     },
     "metadata": {},
     "output_type": "display_data"
    },
    {
     "name": "stdout",
     "output_type": "stream",
     "text": [
      "Early stopping triggered on fold 2, epoch 5.\n"
     ]
    },
    {
     "data": {
      "application/vnd.jupyter.widget-view+json": {
       "model_id": "ea1b2cc6e26348eca725b12bac7f218a",
       "version_major": 2,
       "version_minor": 0
      },
      "text/plain": [
       "Training Fold 3:   0%|          | 0/5 [00:00<?, ?it/s]"
      ]
     },
     "metadata": {},
     "output_type": "display_data"
    },
    {
     "data": {
      "application/vnd.jupyter.widget-view+json": {
       "model_id": "81ab483025b14b80a1b73f87cffdcd42",
       "version_major": 2,
       "version_minor": 0
      },
      "text/plain": [
       "Training Fold 4:   0%|          | 0/5 [00:00<?, ?it/s]"
      ]
     },
     "metadata": {},
     "output_type": "display_data"
    },
    {
     "name": "stdout",
     "output_type": "stream",
     "text": [
      "Early stopping triggered on fold 4, epoch 4.\n"
     ]
    },
    {
     "data": {
      "application/vnd.jupyter.widget-view+json": {
       "model_id": "31bb2f1cb19d41289423a3578e1c8bf4",
       "version_major": 2,
       "version_minor": 0
      },
      "text/plain": [
       "Training Fold 5:   0%|          | 0/5 [00:00<?, ?it/s]"
      ]
     },
     "metadata": {},
     "output_type": "display_data"
    },
    {
     "data": {
      "application/vnd.jupyter.widget-view+json": {
       "model_id": "9e0cdc06befe42f9a9273933a022af8a",
       "version_major": 2,
       "version_minor": 0
      },
      "text/plain": [
       "Training Fold 6:   0%|          | 0/5 [00:00<?, ?it/s]"
      ]
     },
     "metadata": {},
     "output_type": "display_data"
    },
    {
     "name": "stdout",
     "output_type": "stream",
     "text": [
      "Early stopping triggered on fold 6, epoch 5.\n"
     ]
    },
    {
     "data": {
      "application/vnd.jupyter.widget-view+json": {
       "model_id": "67ffa7fe5f434730846c9ae783ec277e",
       "version_major": 2,
       "version_minor": 0
      },
      "text/plain": [
       "Training Fold 7:   0%|          | 0/5 [00:00<?, ?it/s]"
      ]
     },
     "metadata": {},
     "output_type": "display_data"
    },
    {
     "data": {
      "application/vnd.jupyter.widget-view+json": {
       "model_id": "d836dea8e5fb4c57bcd4ee17b91b804c",
       "version_major": 2,
       "version_minor": 0
      },
      "text/plain": [
       "Training Fold 8:   0%|          | 0/5 [00:00<?, ?it/s]"
      ]
     },
     "metadata": {},
     "output_type": "display_data"
    },
    {
     "name": "stdout",
     "output_type": "stream",
     "text": [
      "Early stopping triggered on fold 8, epoch 5.\n"
     ]
    },
    {
     "data": {
      "application/vnd.jupyter.widget-view+json": {
       "model_id": "760f410946c24e63a0f0df2fcc9ad327",
       "version_major": 2,
       "version_minor": 0
      },
      "text/plain": [
       "Training Fold 9:   0%|          | 0/5 [00:00<?, ?it/s]"
      ]
     },
     "metadata": {},
     "output_type": "display_data"
    },
    {
     "name": "stderr",
     "output_type": "stream",
     "text": [
      "[I 2025-06-19 17:59:35,767] Trial 5 finished with value: 0.6153381642512077 and parameters: {'embed_dim': 112, 'lr': 0.005988977898358928, 'weight_decay': 0.06798857983141247, 'rnn_units': 128}. Best is trial 0 with value: 0.616243961352657.\n"
     ]
    },
    {
     "name": "stdout",
     "output_type": "stream",
     "text": [
      "Early stopping triggered on fold 9, epoch 5.\n"
     ]
    },
    {
     "data": {
      "application/vnd.jupyter.widget-view+json": {
       "model_id": "b301d5450e94469fb5eef5a05ac0cdb1",
       "version_major": 2,
       "version_minor": 0
      },
      "text/plain": [
       "CV Folds:   0%|          | 0/9 [00:00<?, ?it/s]"
      ]
     },
     "metadata": {},
     "output_type": "display_data"
    },
    {
     "data": {
      "application/vnd.jupyter.widget-view+json": {
       "model_id": "4a7cff94f97a41afa10dc6871d1a9eb4",
       "version_major": 2,
       "version_minor": 0
      },
      "text/plain": [
       "Training Fold 1:   0%|          | 0/5 [00:00<?, ?it/s]"
      ]
     },
     "metadata": {},
     "output_type": "display_data"
    },
    {
     "name": "stdout",
     "output_type": "stream",
     "text": [
      "Early stopping triggered on fold 1, epoch 4.\n"
     ]
    },
    {
     "data": {
      "application/vnd.jupyter.widget-view+json": {
       "model_id": "4f23024605ad4fa3aa45a61976688093",
       "version_major": 2,
       "version_minor": 0
      },
      "text/plain": [
       "Training Fold 2:   0%|          | 0/5 [00:00<?, ?it/s]"
      ]
     },
     "metadata": {},
     "output_type": "display_data"
    },
    {
     "name": "stdout",
     "output_type": "stream",
     "text": [
      "Early stopping triggered on fold 2, epoch 4.\n"
     ]
    },
    {
     "data": {
      "application/vnd.jupyter.widget-view+json": {
       "model_id": "8862e40a8fa04fc882b03837033cf5da",
       "version_major": 2,
       "version_minor": 0
      },
      "text/plain": [
       "Training Fold 3:   0%|          | 0/5 [00:00<?, ?it/s]"
      ]
     },
     "metadata": {},
     "output_type": "display_data"
    },
    {
     "name": "stdout",
     "output_type": "stream",
     "text": [
      "Early stopping triggered on fold 3, epoch 5.\n"
     ]
    },
    {
     "data": {
      "application/vnd.jupyter.widget-view+json": {
       "model_id": "a7b1b4c57cb24acf88b3e17ed15cb614",
       "version_major": 2,
       "version_minor": 0
      },
      "text/plain": [
       "Training Fold 4:   0%|          | 0/5 [00:00<?, ?it/s]"
      ]
     },
     "metadata": {},
     "output_type": "display_data"
    },
    {
     "name": "stdout",
     "output_type": "stream",
     "text": [
      "Early stopping triggered on fold 4, epoch 5.\n"
     ]
    },
    {
     "data": {
      "application/vnd.jupyter.widget-view+json": {
       "model_id": "678e7a02b0ec4eeda94eeb1c0d56018f",
       "version_major": 2,
       "version_minor": 0
      },
      "text/plain": [
       "Training Fold 5:   0%|          | 0/5 [00:00<?, ?it/s]"
      ]
     },
     "metadata": {},
     "output_type": "display_data"
    },
    {
     "data": {
      "application/vnd.jupyter.widget-view+json": {
       "model_id": "6cc32d85111b438e8459414d5be4924a",
       "version_major": 2,
       "version_minor": 0
      },
      "text/plain": [
       "Training Fold 6:   0%|          | 0/5 [00:00<?, ?it/s]"
      ]
     },
     "metadata": {},
     "output_type": "display_data"
    },
    {
     "name": "stdout",
     "output_type": "stream",
     "text": [
      "Early stopping triggered on fold 6, epoch 5.\n"
     ]
    },
    {
     "data": {
      "application/vnd.jupyter.widget-view+json": {
       "model_id": "7eb656eb812148f194f024c24f3deae9",
       "version_major": 2,
       "version_minor": 0
      },
      "text/plain": [
       "Training Fold 7:   0%|          | 0/5 [00:00<?, ?it/s]"
      ]
     },
     "metadata": {},
     "output_type": "display_data"
    },
    {
     "name": "stdout",
     "output_type": "stream",
     "text": [
      "Early stopping triggered on fold 7, epoch 4.\n"
     ]
    },
    {
     "data": {
      "application/vnd.jupyter.widget-view+json": {
       "model_id": "6ac6179953bd41d7bae9e74d56312ca4",
       "version_major": 2,
       "version_minor": 0
      },
      "text/plain": [
       "Training Fold 8:   0%|          | 0/5 [00:00<?, ?it/s]"
      ]
     },
     "metadata": {},
     "output_type": "display_data"
    },
    {
     "name": "stdout",
     "output_type": "stream",
     "text": [
      "Early stopping triggered on fold 8, epoch 5.\n"
     ]
    },
    {
     "data": {
      "application/vnd.jupyter.widget-view+json": {
       "model_id": "f4479d2eac8942cbb3f721f2fe0d22d3",
       "version_major": 2,
       "version_minor": 0
      },
      "text/plain": [
       "Training Fold 9:   0%|          | 0/5 [00:00<?, ?it/s]"
      ]
     },
     "metadata": {},
     "output_type": "display_data"
    },
    {
     "name": "stderr",
     "output_type": "stream",
     "text": [
      "[I 2025-06-19 18:01:52,298] Trial 6 finished with value: 0.6163949275362319 and parameters: {'embed_dim': 112, 'lr': 0.005510571920516659, 'weight_decay': 0.0002572717683751624, 'rnn_units': 64}. Best is trial 6 with value: 0.6163949275362319.\n"
     ]
    },
    {
     "data": {
      "application/vnd.jupyter.widget-view+json": {
       "model_id": "7d637d99d3274ed4a9a5bd6ac7161ff4",
       "version_major": 2,
       "version_minor": 0
      },
      "text/plain": [
       "CV Folds:   0%|          | 0/9 [00:00<?, ?it/s]"
      ]
     },
     "metadata": {},
     "output_type": "display_data"
    },
    {
     "data": {
      "application/vnd.jupyter.widget-view+json": {
       "model_id": "f5db21324d0c4c40ae0e9df556f2f448",
       "version_major": 2,
       "version_minor": 0
      },
      "text/plain": [
       "Training Fold 1:   0%|          | 0/5 [00:00<?, ?it/s]"
      ]
     },
     "metadata": {},
     "output_type": "display_data"
    },
    {
     "name": "stdout",
     "output_type": "stream",
     "text": [
      "Early stopping triggered on fold 1, epoch 5.\n"
     ]
    },
    {
     "data": {
      "application/vnd.jupyter.widget-view+json": {
       "model_id": "16e2144b9347477cb337760c5b0d7212",
       "version_major": 2,
       "version_minor": 0
      },
      "text/plain": [
       "Training Fold 2:   0%|          | 0/5 [00:00<?, ?it/s]"
      ]
     },
     "metadata": {},
     "output_type": "display_data"
    },
    {
     "name": "stdout",
     "output_type": "stream",
     "text": [
      "Early stopping triggered on fold 2, epoch 4.\n"
     ]
    },
    {
     "data": {
      "application/vnd.jupyter.widget-view+json": {
       "model_id": "e2cd16fc31b248069962f5e3d0516665",
       "version_major": 2,
       "version_minor": 0
      },
      "text/plain": [
       "Training Fold 3:   0%|          | 0/5 [00:00<?, ?it/s]"
      ]
     },
     "metadata": {},
     "output_type": "display_data"
    },
    {
     "data": {
      "application/vnd.jupyter.widget-view+json": {
       "model_id": "926f5f5fd1754851a3157577059c74e4",
       "version_major": 2,
       "version_minor": 0
      },
      "text/plain": [
       "Training Fold 4:   0%|          | 0/5 [00:00<?, ?it/s]"
      ]
     },
     "metadata": {},
     "output_type": "display_data"
    },
    {
     "name": "stdout",
     "output_type": "stream",
     "text": [
      "Early stopping triggered on fold 4, epoch 5.\n"
     ]
    },
    {
     "data": {
      "application/vnd.jupyter.widget-view+json": {
       "model_id": "9c24ff6db7b941d5bdb9ce31c4c61d53",
       "version_major": 2,
       "version_minor": 0
      },
      "text/plain": [
       "Training Fold 5:   0%|          | 0/5 [00:00<?, ?it/s]"
      ]
     },
     "metadata": {},
     "output_type": "display_data"
    },
    {
     "name": "stdout",
     "output_type": "stream",
     "text": [
      "Early stopping triggered on fold 5, epoch 5.\n"
     ]
    },
    {
     "data": {
      "application/vnd.jupyter.widget-view+json": {
       "model_id": "6b709e49d0a34cb3926afe5e6a0f20c4",
       "version_major": 2,
       "version_minor": 0
      },
      "text/plain": [
       "Training Fold 6:   0%|          | 0/5 [00:00<?, ?it/s]"
      ]
     },
     "metadata": {},
     "output_type": "display_data"
    },
    {
     "name": "stdout",
     "output_type": "stream",
     "text": [
      "Early stopping triggered on fold 6, epoch 5.\n"
     ]
    },
    {
     "data": {
      "application/vnd.jupyter.widget-view+json": {
       "model_id": "69a077e1f42b44e4b1a7515d62604e84",
       "version_major": 2,
       "version_minor": 0
      },
      "text/plain": [
       "Training Fold 7:   0%|          | 0/5 [00:00<?, ?it/s]"
      ]
     },
     "metadata": {},
     "output_type": "display_data"
    },
    {
     "name": "stdout",
     "output_type": "stream",
     "text": [
      "Early stopping triggered on fold 7, epoch 4.\n"
     ]
    },
    {
     "data": {
      "application/vnd.jupyter.widget-view+json": {
       "model_id": "fc202251943c4d068ab7b0cd0d5164ae",
       "version_major": 2,
       "version_minor": 0
      },
      "text/plain": [
       "Training Fold 8:   0%|          | 0/5 [00:00<?, ?it/s]"
      ]
     },
     "metadata": {},
     "output_type": "display_data"
    },
    {
     "name": "stdout",
     "output_type": "stream",
     "text": [
      "Early stopping triggered on fold 8, epoch 5.\n"
     ]
    },
    {
     "data": {
      "application/vnd.jupyter.widget-view+json": {
       "model_id": "2666f25bd71942a5af5e25838271f3c2",
       "version_major": 2,
       "version_minor": 0
      },
      "text/plain": [
       "Training Fold 9:   0%|          | 0/5 [00:00<?, ?it/s]"
      ]
     },
     "metadata": {},
     "output_type": "display_data"
    },
    {
     "name": "stderr",
     "output_type": "stream",
     "text": [
      "[I 2025-06-19 18:06:14,333] Trial 7 finished with value: 0.6145833333333334 and parameters: {'embed_dim': 16, 'lr': 0.009836756974255415, 'weight_decay': 0.002801842899497931, 'rnn_units': 128}. Best is trial 6 with value: 0.6163949275362319.\n"
     ]
    },
    {
     "name": "stdout",
     "output_type": "stream",
     "text": [
      "Early stopping triggered on fold 9, epoch 5.\n"
     ]
    },
    {
     "data": {
      "application/vnd.jupyter.widget-view+json": {
       "model_id": "adafc99b86ad45559c52fd4371c34e26",
       "version_major": 2,
       "version_minor": 0
      },
      "text/plain": [
       "CV Folds:   0%|          | 0/9 [00:00<?, ?it/s]"
      ]
     },
     "metadata": {},
     "output_type": "display_data"
    },
    {
     "data": {
      "application/vnd.jupyter.widget-view+json": {
       "model_id": "5d729e31deba49e4820f9249f8c8f0a3",
       "version_major": 2,
       "version_minor": 0
      },
      "text/plain": [
       "Training Fold 1:   0%|          | 0/5 [00:00<?, ?it/s]"
      ]
     },
     "metadata": {},
     "output_type": "display_data"
    },
    {
     "name": "stdout",
     "output_type": "stream",
     "text": [
      "Early stopping triggered on fold 1, epoch 5.\n"
     ]
    },
    {
     "data": {
      "application/vnd.jupyter.widget-view+json": {
       "model_id": "b60c267301214fb1b547786131bd342f",
       "version_major": 2,
       "version_minor": 0
      },
      "text/plain": [
       "Training Fold 2:   0%|          | 0/5 [00:00<?, ?it/s]"
      ]
     },
     "metadata": {},
     "output_type": "display_data"
    },
    {
     "name": "stdout",
     "output_type": "stream",
     "text": [
      "Early stopping triggered on fold 2, epoch 4.\n"
     ]
    },
    {
     "data": {
      "application/vnd.jupyter.widget-view+json": {
       "model_id": "703f0a935acf453eb675ffe647ad5b62",
       "version_major": 2,
       "version_minor": 0
      },
      "text/plain": [
       "Training Fold 3:   0%|          | 0/5 [00:00<?, ?it/s]"
      ]
     },
     "metadata": {},
     "output_type": "display_data"
    },
    {
     "data": {
      "application/vnd.jupyter.widget-view+json": {
       "model_id": "cbf5840e8080489994a3ade12009c5d7",
       "version_major": 2,
       "version_minor": 0
      },
      "text/plain": [
       "Training Fold 4:   0%|          | 0/5 [00:00<?, ?it/s]"
      ]
     },
     "metadata": {},
     "output_type": "display_data"
    },
    {
     "data": {
      "application/vnd.jupyter.widget-view+json": {
       "model_id": "08f26155b8814087b2f61bcfdc4cce3a",
       "version_major": 2,
       "version_minor": 0
      },
      "text/plain": [
       "Training Fold 5:   0%|          | 0/5 [00:00<?, ?it/s]"
      ]
     },
     "metadata": {},
     "output_type": "display_data"
    },
    {
     "data": {
      "application/vnd.jupyter.widget-view+json": {
       "model_id": "a6bfcd43383a44eda7c455621af4d2dd",
       "version_major": 2,
       "version_minor": 0
      },
      "text/plain": [
       "Training Fold 6:   0%|          | 0/5 [00:00<?, ?it/s]"
      ]
     },
     "metadata": {},
     "output_type": "display_data"
    },
    {
     "data": {
      "application/vnd.jupyter.widget-view+json": {
       "model_id": "1c06f3de9e374aa085f3214cc65b8d2b",
       "version_major": 2,
       "version_minor": 0
      },
      "text/plain": [
       "Training Fold 7:   0%|          | 0/5 [00:00<?, ?it/s]"
      ]
     },
     "metadata": {},
     "output_type": "display_data"
    },
    {
     "data": {
      "application/vnd.jupyter.widget-view+json": {
       "model_id": "665f0a3b10c343de894373834a055fa1",
       "version_major": 2,
       "version_minor": 0
      },
      "text/plain": [
       "Training Fold 8:   0%|          | 0/5 [00:00<?, ?it/s]"
      ]
     },
     "metadata": {},
     "output_type": "display_data"
    },
    {
     "data": {
      "application/vnd.jupyter.widget-view+json": {
       "model_id": "15cb61d970c748ee8abfe6502df3beb5",
       "version_major": 2,
       "version_minor": 0
      },
      "text/plain": [
       "Training Fold 9:   0%|          | 0/5 [00:00<?, ?it/s]"
      ]
     },
     "metadata": {},
     "output_type": "display_data"
    },
    {
     "name": "stderr",
     "output_type": "stream",
     "text": [
      "[I 2025-06-19 18:09:09,194] Trial 8 finished with value: 0.613677536231884 and parameters: {'embed_dim': 48, 'lr': 0.0002856313255110819, 'weight_decay': 0.0016721498700646635, 'rnn_units': 96}. Best is trial 6 with value: 0.6163949275362319.\n"
     ]
    },
    {
     "data": {
      "application/vnd.jupyter.widget-view+json": {
       "model_id": "2789d36834a945509a22e0e2acc0f2ee",
       "version_major": 2,
       "version_minor": 0
      },
      "text/plain": [
       "CV Folds:   0%|          | 0/9 [00:00<?, ?it/s]"
      ]
     },
     "metadata": {},
     "output_type": "display_data"
    },
    {
     "data": {
      "application/vnd.jupyter.widget-view+json": {
       "model_id": "8a1de5aa97fd4f2b83fd5ed34cf8309e",
       "version_major": 2,
       "version_minor": 0
      },
      "text/plain": [
       "Training Fold 1:   0%|          | 0/5 [00:00<?, ?it/s]"
      ]
     },
     "metadata": {},
     "output_type": "display_data"
    },
    {
     "data": {
      "application/vnd.jupyter.widget-view+json": {
       "model_id": "0a9a5ad1c2464e5e88598807a2392d44",
       "version_major": 2,
       "version_minor": 0
      },
      "text/plain": [
       "Training Fold 2:   0%|          | 0/5 [00:00<?, ?it/s]"
      ]
     },
     "metadata": {},
     "output_type": "display_data"
    },
    {
     "data": {
      "application/vnd.jupyter.widget-view+json": {
       "model_id": "6843532eac8b493da9989f62f2373b24",
       "version_major": 2,
       "version_minor": 0
      },
      "text/plain": [
       "Training Fold 3:   0%|          | 0/5 [00:00<?, ?it/s]"
      ]
     },
     "metadata": {},
     "output_type": "display_data"
    },
    {
     "data": {
      "application/vnd.jupyter.widget-view+json": {
       "model_id": "b208de1bb36d4ebcb4ca64ae5ed0c3fe",
       "version_major": 2,
       "version_minor": 0
      },
      "text/plain": [
       "Training Fold 4:   0%|          | 0/5 [00:00<?, ?it/s]"
      ]
     },
     "metadata": {},
     "output_type": "display_data"
    },
    {
     "data": {
      "application/vnd.jupyter.widget-view+json": {
       "model_id": "fa9ffef54b5f4466958a292279176650",
       "version_major": 2,
       "version_minor": 0
      },
      "text/plain": [
       "Training Fold 5:   0%|          | 0/5 [00:00<?, ?it/s]"
      ]
     },
     "metadata": {},
     "output_type": "display_data"
    },
    {
     "data": {
      "application/vnd.jupyter.widget-view+json": {
       "model_id": "385864af4d7b4b16b28ec6b8b6f22bd0",
       "version_major": 2,
       "version_minor": 0
      },
      "text/plain": [
       "Training Fold 6:   0%|          | 0/5 [00:00<?, ?it/s]"
      ]
     },
     "metadata": {},
     "output_type": "display_data"
    },
    {
     "data": {
      "application/vnd.jupyter.widget-view+json": {
       "model_id": "a7d58bd0185846aca9130148b508396f",
       "version_major": 2,
       "version_minor": 0
      },
      "text/plain": [
       "Training Fold 7:   0%|          | 0/5 [00:00<?, ?it/s]"
      ]
     },
     "metadata": {},
     "output_type": "display_data"
    },
    {
     "data": {
      "application/vnd.jupyter.widget-view+json": {
       "model_id": "dfe545c6ca2e4e78b9e67f0c0439d243",
       "version_major": 2,
       "version_minor": 0
      },
      "text/plain": [
       "Training Fold 8:   0%|          | 0/5 [00:00<?, ?it/s]"
      ]
     },
     "metadata": {},
     "output_type": "display_data"
    },
    {
     "data": {
      "application/vnd.jupyter.widget-view+json": {
       "model_id": "7c11a62c9c564354b5d8dcef43c56089",
       "version_major": 2,
       "version_minor": 0
      },
      "text/plain": [
       "Training Fold 9:   0%|          | 0/5 [00:00<?, ?it/s]"
      ]
     },
     "metadata": {},
     "output_type": "display_data"
    },
    {
     "name": "stderr",
     "output_type": "stream",
     "text": [
      "[I 2025-06-19 18:13:48,450] Trial 9 finished with value: 0.611262077294686 and parameters: {'embed_dim': 112, 'lr': 0.00014422329043224617, 'weight_decay': 0.002143532861057693, 'rnn_units': 128}. Best is trial 6 with value: 0.6163949275362319.\n"
     ]
    }
   ],
   "source": [
    "study = optuna.create_study(direction=\"maximize\")  # You want to maximize accuracy\n",
    "study.optimize(\n",
    "    partial(objective_rnn, df=df, cv=rskf, device=device),\n",
    "    n_trials=10,  # Number of trials to try\n",
    ")"
   ]
  },
  {
   "cell_type": "code",
   "execution_count": 33,
   "metadata": {},
   "outputs": [
    {
     "data": {
      "text/plain": [
       "{'embed_dim': 112,\n",
       " 'lr': 0.005510571920516659,\n",
       " 'weight_decay': 0.0002572717683751624,\n",
       " 'rnn_units': 64}"
      ]
     },
     "execution_count": 33,
     "metadata": {},
     "output_type": "execute_result"
    }
   ],
   "source": [
    "study.best_params"
   ]
  },
  {
   "cell_type": "markdown",
   "metadata": {},
   "source": [
    "## Train"
   ]
  },
  {
   "cell_type": "code",
   "execution_count": 34,
   "metadata": {},
   "outputs": [],
   "source": [
    "vocab_inst = build_vocab(df_train)"
   ]
  },
  {
   "cell_type": "markdown",
   "metadata": {},
   "source": [
    "### Preliminary evaluation"
   ]
  },
  {
   "cell_type": "code",
   "execution_count": 35,
   "metadata": {},
   "outputs": [],
   "source": [
    "rnn_classifier = SimpleRNNClassifier(\n",
    "    len(vocab_inst),\n",
    "    embedding_dim=study.best_params['embed_dim'],\n",
    "    rnn_units=study.best_params['rnn_units'],\n",
    "    num_classes=3\n",
    "    )"
   ]
  },
  {
   "cell_type": "code",
   "execution_count": 36,
   "metadata": {},
   "outputs": [
    {
     "data": {
      "application/vnd.jupyter.widget-view+json": {
       "model_id": "48338aaa3f7549b9ba8376241dd3691c",
       "version_major": 2,
       "version_minor": 0
      },
      "text/plain": [
       "CV Folds:   0%|          | 0/9 [00:00<?, ?it/s]"
      ]
     },
     "metadata": {},
     "output_type": "display_data"
    },
    {
     "data": {
      "application/vnd.jupyter.widget-view+json": {
       "model_id": "431f986ddb0646278ac84a31099795d7",
       "version_major": 2,
       "version_minor": 0
      },
      "text/plain": [
       "Training Fold 1:   0%|          | 0/10 [00:00<?, ?it/s]"
      ]
     },
     "metadata": {},
     "output_type": "display_data"
    },
    {
     "name": "stdout",
     "output_type": "stream",
     "text": [
      "Early stopping triggered on fold 1, epoch 4.\n"
     ]
    },
    {
     "data": {
      "application/vnd.jupyter.widget-view+json": {
       "model_id": "7c3e9b6a86a84aff8bc9c5b756b80e1f",
       "version_major": 2,
       "version_minor": 0
      },
      "text/plain": [
       "Training Fold 2:   0%|          | 0/10 [00:00<?, ?it/s]"
      ]
     },
     "metadata": {},
     "output_type": "display_data"
    },
    {
     "name": "stdout",
     "output_type": "stream",
     "text": [
      "Early stopping triggered on fold 2, epoch 4.\n"
     ]
    },
    {
     "data": {
      "application/vnd.jupyter.widget-view+json": {
       "model_id": "301228cb5b1b4703aaace87e3d3b058b",
       "version_major": 2,
       "version_minor": 0
      },
      "text/plain": [
       "Training Fold 3:   0%|          | 0/10 [00:00<?, ?it/s]"
      ]
     },
     "metadata": {},
     "output_type": "display_data"
    },
    {
     "name": "stdout",
     "output_type": "stream",
     "text": [
      "Early stopping triggered on fold 3, epoch 4.\n"
     ]
    },
    {
     "data": {
      "application/vnd.jupyter.widget-view+json": {
       "model_id": "8fc479717a614bb69fdb169a2edd548b",
       "version_major": 2,
       "version_minor": 0
      },
      "text/plain": [
       "Training Fold 4:   0%|          | 0/10 [00:00<?, ?it/s]"
      ]
     },
     "metadata": {},
     "output_type": "display_data"
    },
    {
     "name": "stdout",
     "output_type": "stream",
     "text": [
      "Early stopping triggered on fold 4, epoch 4.\n"
     ]
    },
    {
     "data": {
      "application/vnd.jupyter.widget-view+json": {
       "model_id": "a5a751fa3f5546a1935547c2073d5629",
       "version_major": 2,
       "version_minor": 0
      },
      "text/plain": [
       "Training Fold 5:   0%|          | 0/10 [00:00<?, ?it/s]"
      ]
     },
     "metadata": {},
     "output_type": "display_data"
    },
    {
     "name": "stdout",
     "output_type": "stream",
     "text": [
      "Early stopping triggered on fold 5, epoch 4.\n"
     ]
    },
    {
     "data": {
      "application/vnd.jupyter.widget-view+json": {
       "model_id": "d8aa8e5bd85746528255d0217cf1923b",
       "version_major": 2,
       "version_minor": 0
      },
      "text/plain": [
       "Training Fold 6:   0%|          | 0/10 [00:00<?, ?it/s]"
      ]
     },
     "metadata": {},
     "output_type": "display_data"
    },
    {
     "name": "stdout",
     "output_type": "stream",
     "text": [
      "Early stopping triggered on fold 6, epoch 7.\n"
     ]
    },
    {
     "data": {
      "application/vnd.jupyter.widget-view+json": {
       "model_id": "c0e9d0a01916455a829a243fc5f071b9",
       "version_major": 2,
       "version_minor": 0
      },
      "text/plain": [
       "Training Fold 7:   0%|          | 0/10 [00:00<?, ?it/s]"
      ]
     },
     "metadata": {},
     "output_type": "display_data"
    },
    {
     "name": "stdout",
     "output_type": "stream",
     "text": [
      "Early stopping triggered on fold 7, epoch 4.\n"
     ]
    },
    {
     "data": {
      "application/vnd.jupyter.widget-view+json": {
       "model_id": "defbd9e9aeaf47d78373d4eff2fa6797",
       "version_major": 2,
       "version_minor": 0
      },
      "text/plain": [
       "Training Fold 8:   0%|          | 0/10 [00:00<?, ?it/s]"
      ]
     },
     "metadata": {},
     "output_type": "display_data"
    },
    {
     "name": "stdout",
     "output_type": "stream",
     "text": [
      "Early stopping triggered on fold 8, epoch 7.\n"
     ]
    },
    {
     "data": {
      "application/vnd.jupyter.widget-view+json": {
       "model_id": "7bb0a99126f04f81af1175412baea897",
       "version_major": 2,
       "version_minor": 0
      },
      "text/plain": [
       "Training Fold 9:   0%|          | 0/10 [00:00<?, ?it/s]"
      ]
     },
     "metadata": {},
     "output_type": "display_data"
    },
    {
     "name": "stdout",
     "output_type": "stream",
     "text": [
      "Early stopping triggered on fold 9, epoch 5.\n",
      "Validation Score: 0.6840 ± 0.0162\n"
     ]
    }
   ],
   "source": [
    "cv_scores = cross_validate_model(\n",
    "    rnn_classifier,\n",
    "    df_train,\n",
    "    device,\n",
    "    rskf,\n",
    "    best_params = study.best_params\n",
    "    )"
   ]
  },
  {
   "cell_type": "code",
   "execution_count": 37,
   "metadata": {},
   "outputs": [
    {
     "data": {
      "text/plain": [
       "[0.6808149405772496,\n",
       " 0.6689303904923599,\n",
       " 0.6989795918367347,\n",
       " 0.6960950764006791,\n",
       " 0.6723259762308998,\n",
       " 0.6870748299319728,\n",
       " 0.6723259762308998,\n",
       " 0.7164685908319185,\n",
       " 0.6632653061224489]"
      ]
     },
     "execution_count": 37,
     "metadata": {},
     "output_type": "execute_result"
    }
   ],
   "source": [
    "cv_scores"
   ]
  },
  {
   "cell_type": "markdown",
   "metadata": {},
   "source": [
    "### Actual training"
   ]
  },
  {
   "cell_type": "code",
   "execution_count": 38,
   "metadata": {},
   "outputs": [
    {
     "data": {
      "application/vnd.jupyter.widget-view+json": {
       "model_id": "1aea11b0fc544ce8b76ef2efa67e770f",
       "version_major": 2,
       "version_minor": 0
      },
      "text/plain": [
       "Training Epochs:   0%|          | 0/10 [00:00<?, ?it/s]"
      ]
     },
     "metadata": {},
     "output_type": "display_data"
    },
    {
     "name": "stdout",
     "output_type": "stream",
     "text": [
      "Epoch 1/10\n",
      "Train Loss: 0.9399, Acc: 0.6140 | Val Loss: 0.9157, Acc: 0.6158\n",
      "Epoch 2/10\n",
      "Train Loss: 0.9454, Acc: 0.6147 | Val Loss: 0.9192, Acc: 0.6186\n",
      "Epoch 3/10\n",
      "Train Loss: 0.9271, Acc: 0.6147 | Val Loss: 0.9305, Acc: 0.6158\n",
      "Epoch 4/10\n",
      "Train Loss: 0.9302, Acc: 0.6147 | Val Loss: 0.9146, Acc: 0.6158\n",
      "Epoch 5/10\n",
      "Train Loss: 0.9220, Acc: 0.6147 | Val Loss: 0.9581, Acc: 0.6186\n",
      "Epoch 6/10\n",
      "Train Loss: 0.9257, Acc: 0.6147 | Val Loss: 0.9352, Acc: 0.6158\n",
      "Epoch 7/10\n",
      "Train Loss: 0.9338, Acc: 0.6147 | Val Loss: 0.9218, Acc: 0.6158\n",
      "Early stopping triggered\n"
     ]
    }
   ],
   "source": [
    "rnn_classifier, history = train_model(\n",
    "    rnn_classifier,\n",
    "    df_train,\n",
    "    vocab_inst,\n",
    "    device,\n",
    "    study.best_params\n",
    "    )"
   ]
  },
  {
   "cell_type": "markdown",
   "metadata": {},
   "source": []
  }
 ],
 "metadata": {
  "kernelspec": {
   "display_name": "project2",
   "language": "python",
   "name": "python3"
  },
  "language_info": {
   "codemirror_mode": {
    "name": "ipython",
    "version": 3
   },
   "file_extension": ".py",
   "mimetype": "text/x-python",
   "name": "python",
   "nbconvert_exporter": "python",
   "pygments_lexer": "ipython3",
   "version": "3.12.11"
  }
 },
 "nbformat": 4,
 "nbformat_minor": 2
}
